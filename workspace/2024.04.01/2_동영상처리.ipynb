{
 "cells": [
  {
   "cell_type": "markdown",
   "metadata": {},
   "source": [
    "#### 1. 영상 불러오기 및 정보 확인"
   ]
  },
  {
   "cell_type": "code",
   "execution_count": 1,
   "metadata": {},
   "outputs": [],
   "source": [
    "import cv2"
   ]
  },
  {
   "cell_type": "code",
   "execution_count": 3,
   "metadata": {},
   "outputs": [
    {
     "name": "stdout",
     "output_type": "stream",
     "text": [
      "영상의 가로 크기 : 1920\n",
      "영상의 세로 크기 : 1080\n",
      "영상의 프레임 수 : 1515\n",
      "영상의 프레임 속도:  25\n"
     ]
    }
   ],
   "source": [
    "# 영상 읽기\n",
    "cap = cv2.VideoCapture('cat_video.mp4')\n",
    "\n",
    "frame_width = int(cap.get(cv2.CAP_PROP_FRAME_WIDTH))\n",
    "frame_height = int(cap.get(cv2.CAP_PROP_FRAME_HEIGHT))\n",
    "frame_count = int(cap.get(cv2.CAP_PROP_FRAME_COUNT))\n",
    "frame_rate = int(cap.get(cv2.CAP_PROP_FPS))\n",
    "\n",
    "print(\"영상의 가로 크기 :\", frame_width)\n",
    "print(\"영상의 세로 크기 :\", frame_height)\n",
    "print(\"영상의 프레임 수 :\", frame_count)\n",
    "print(\"영상의 프레임 속도: \", frame_rate)\n"
   ]
  },
  {
   "cell_type": "markdown",
   "metadata": {},
   "source": [
    "#### 2. 영상 출력해보기"
   ]
  },
  {
   "cell_type": "code",
   "execution_count": 3,
   "metadata": {},
   "outputs": [],
   "source": [
    "cap = cv2.VideoCapture('cat_video.mp4')\n",
    "while True:\n",
    "    ret, frame = cap.read()\n",
    "    if not ret:\n",
    "        break\n",
    "    \n",
    "    # 프레임 표시\n",
    "    cv2.imshow('Frame', frame)\n",
    "    if cv2.waitKey(25) & 0xFF == ord('q'):\n",
    "        break\n",
    "\n",
    "cap.release()\n",
    "cv2.destroyAllWindows()"
   ]
  },
  {
   "cell_type": "markdown",
   "metadata": {},
   "source": [
    "#### 3. cam 으로 카메라 정보 출력해보기"
   ]
  },
  {
   "cell_type": "code",
   "execution_count": 4,
   "metadata": {},
   "outputs": [],
   "source": [
    "# 카메라 캡처 객체 생성\n",
    "cap = cv2.VideoCapture(0)  # 0은 기본 카메라를 의미합니다. 만약 두 번째 카메라를 사용하려면 1을 사용합니다.\n",
    "\n",
    "# 카메라 캡처 객체가 정상적으로 열렸는지 확인\n",
    "if not cap.isOpened():\n",
    "    print(\"카메라를 열 수 없습니다.\")\n",
    "    exit()\n",
    "\n",
    "while True:\n",
    "    # 카메라에서 프레임 읽기\n",
    "    ret, frame = cap.read()\n",
    "    \n",
    "    # 프레임 읽기에 실패한 경우 루프 종료\n",
    "    if not ret:\n",
    "        print(\"카메라에서 프레임을 읽을 수 없습니다.\")\n",
    "        break\n",
    "    \n",
    "    # 읽어온 프레임 화면에 표시\n",
    "    cv2.imshow('Camera', frame)\n",
    "    \n",
    "    # 'q' 키를 누르면 루프 종료\n",
    "    if cv2.waitKey(1) & 0xFF == ord('q'):\n",
    "        break\n",
    "\n",
    "# 사용한 자원 해제\n",
    "cap.release()\n",
    "cv2.destroyAllWindows()\n"
   ]
  },
  {
   "cell_type": "markdown",
   "metadata": {},
   "source": [
    "#### 4. 영상 처리후 새로운 영상으로 저장해보기"
   ]
  },
  {
   "cell_type": "code",
   "execution_count": 7,
   "metadata": {},
   "outputs": [],
   "source": [
    "# 비디오 파일을 불러옵니다.\n",
    "cap = cv2.VideoCapture('cat_video.mp4')\n",
    "\n",
    "# 비디오의 프레임 크기와 FPS를 가져옵니다.\n",
    "frame_width = int(cap.get(3))\n",
    "frame_height = int(cap.get(4))\n",
    "fps = int(cap.get(cv2.CAP_PROP_FPS))\n",
    "\n",
    "# 비디오 저장을 위한 VideoWriter 객체를 생성합니다. MP4 파일 형식과 X264 코덱 사용\n",
    "fourcc = cv2.VideoWriter_fourcc(*'mp4v') # X264 코덱 대신 'mp4v'를 사용\n",
    "out = cv2.VideoWriter('gray_cat.mp4', fourcc, fps, (frame_width, frame_height), False) # False는 그레이스케일 비디오를 의미\n",
    "\n",
    "while True:\n",
    "    ret, frame = cap.read()\n",
    "    if not ret:\n",
    "        break\n",
    "    \n",
    "    # 프레임을 그레이스케일로 변환합니다.\n",
    "    gray = cv2.cvtColor(frame, cv2.COLOR_BGR2GRAY)\n",
    "    \n",
    "    # 그레이스케일 프레임을 파일로 저장합니다.\n",
    "    out.write(gray)\n",
    "    \n",
    "    # 그레이스케일 프레임을 화면에 표시합니다.\n",
    "    cv2.imshow('gray_Frame', gray)\n",
    "    \n",
    "    # 'q' 키를 누르면 루프를 종료합니다.\n",
    "    if cv2.waitKey(25) & 0xFF == ord('q'):\n",
    "        break\n",
    "\n",
    "# 캡처 객체와 VideoWriter 객체를 해제하고 모든 오픈된 창을 닫습니다.\n",
    "cap.release()\n",
    "out.release()\n",
    "cv2.destroyAllWindows()"
   ]
  },
  {
   "cell_type": "markdown",
   "metadata": {},
   "source": [
    "#### 5. 얼굴부위에 이모티콘 이미지 그냥 씌어보기"
   ]
  },
  {
   "cell_type": "code",
   "execution_count": 8,
   "metadata": {},
   "outputs": [],
   "source": [
    "import cv2\n",
    "# Haar Cascade 파일 로드\n",
    "face_cascade = cv2.CascadeClassifier(cv2.data.haarcascades + 'haarcascade_frontalface_default.xml')\n",
    "\n",
    "# 넣을 이모티콘 이미지 로드\n",
    "emoji_img = cv2.imread('cat_face.png')\n",
    "cv2.imshow(\"emoji_img\", emoji_img)\n",
    "cv2.waitKey(0)\n",
    "cv2.destroyAllWindows()"
   ]
  },
  {
   "cell_type": "code",
   "execution_count": 9,
   "metadata": {},
   "outputs": [],
   "source": [
    "# 웹캠 캡처 객체 생성\n",
    "cap = cv2.VideoCapture(0)\n",
    "\n",
    "while True:\n",
    "    # 프레임별로 캡처\n",
    "    ret, frame = cap.read()\n",
    "    \n",
    "    if not ret:\n",
    "        break  # 프레임을 제대로 읽지 못하면 루프 탈출\n",
    "    \n",
    "    # 프레임을 그레이스케일로 변환\n",
    "    gray = cv2.cvtColor(frame, cv2.COLOR_BGR2GRAY)\n",
    "    \n",
    "    # 얼굴 인식\n",
    "    faces = face_cascade.detectMultiScale(gray, 1.1, 4)\n",
    "    \n",
    "    # 인식된 얼굴 위치에 이모티콘 삽입\n",
    "    for (x, y, w, h) in faces:\n",
    "        # 이모티콘 크기 조절\n",
    "        emoji_resized = cv2.resize(emoji_img, (w, h))\n",
    "        # 원본 프레임에 이모티콘 삽입\n",
    "        frame[y:y+h, x:x+w] = emoji_resized\n",
    "    \n",
    "    # 수정된 프레임 표시\n",
    "    cv2.imshow('Frame with Emoji', frame)\n",
    "    \n",
    "    # 'q' 키를 누르면 루프 탈출\n",
    "    if cv2.waitKey(1) & 0xFF == ord('q'):\n",
    "        break\n",
    "\n",
    "# 자원 해제\n",
    "cap.release()\n",
    "cv2.destroyAllWindows()"
   ]
  },
  {
   "cell_type": "markdown",
   "metadata": {},
   "source": [
    "#### 6. 다양한 효과를 적용하여 자연스럽게 합성해보기\n",
    "- 마스크 만들어보기\n",
    "- 경계선 부드럽게 처리해보기"
   ]
  },
  {
   "cell_type": "code",
   "execution_count": 3,
   "metadata": {},
   "outputs": [],
   "source": [
    "# 이모티콘 이미지 로드 (알파 채널 포함) - png 파일일 경우 - 배경제거 프로그램으로 배경 제거 추천\n",
    "emoji_img = cv2.imread('cat_face.png', cv2.IMREAD_UNCHANGED)\n",
    "cv2.imshow(\"emoji_img\", emoji_img)\n",
    "cv2.waitKey(0)\n",
    "cv2.destroyAllWindows()"
   ]
  },
  {
   "cell_type": "code",
   "execution_count": 7,
   "metadata": {},
   "outputs": [],
   "source": [
    "import numpy as np\n",
    "# 알파 채널 분리 (이모티콘의 투명도 관리)\n",
    "emoji_alpha = emoji_img[:, :, 3] / 255.0\n",
    "emoji = emoji_img[:, :, :3]\n",
    "\n",
    "# Haar Cascade 파일 로드\n",
    "face_cascade = cv2.CascadeClassifier(cv2.data.haarcascades + 'haarcascade_frontalface_default.xml')\n",
    "\n",
    "# 웹캠 캡처 객체 생성\n",
    "cap = cv2.VideoCapture(0)\n",
    "\n",
    "while True:\n",
    "    # 프레임별로 캡처\n",
    "    ret, frame = cap.read()\n",
    "    \n",
    "    if not ret:\n",
    "        break  # 프레임을 제대로 읽지 못하면 루프 탈출\n",
    "    \n",
    "    # 프레임을 그레이스케일로 변환\n",
    "    gray = cv2.cvtColor(frame, cv2.COLOR_BGR2GRAY)\n",
    "    \n",
    "    # 얼굴 인식 부위\n",
    "    faces = face_cascade.detectMultiScale(gray, 1.1, 4)\n",
    "    for (x, y, w, h) in faces:\n",
    "\n",
    "        # 이모티콘 크기 조절\n",
    "        emoji_resized = cv2.resize(emoji, (w, h))\n",
    "        emoji_alpha_resized = cv2.resize(emoji_alpha, (w, h))\n",
    "        \n",
    "        # 배경(얼굴 부위)의 반대 마스크\n",
    "        background_alpha = 1.0 - emoji_alpha_resized\n",
    "        \n",
    "        # 얼굴 부위 추출\n",
    "        face_part = frame[y:y+h, x:x+w]\n",
    "        \n",
    "        # 1.알파 블렌딩을 통한 이미지 합성 - for 문으로 작성해보기(1,2 둘 중에 하나로 작성하기)\n",
    "        # for c in range(0, 3):\n",
    "        #     face_part[:, :, c] = (emoji_alpha_resized * emoji_resized[:, :, c] +\n",
    "        #                         background_alpha * face_part[:, :, c])\n",
    "        \n",
    "        # 2.알파 블렌딩을 통한 이미지 합성 - numpy를 이용해서 한 번에 처리\n",
    "        alpha_face = emoji_alpha_resized[..., np.newaxis] * emoji_resized\n",
    "        background_face = background_alpha[..., np.newaxis] * face_part\n",
    "        face_part = alpha_face + background_face\n",
    "\n",
    "        # 합성된 이미지를 원본 프레임에 적용\n",
    "        frame[y:y+h, x:x+w] = face_part\n",
    "        \n",
    "        # 수정된 프레임 표시\n",
    "        cv2.imshow('masked_face', frame)\n",
    "        \n",
    "    # 'q' 키를 누르면 루프 탈출\n",
    "    if cv2.waitKey(1) & 0xFF == ord('q'):\n",
    "        break\n",
    "\n",
    "# 자원 해제\n",
    "cap.release()\n",
    "cv2.destroyAllWindows()"
   ]
  }
 ],
 "metadata": {
  "kernelspec": {
   "display_name": "sesac2024",
   "language": "python",
   "name": "python3"
  },
  "language_info": {
   "codemirror_mode": {
    "name": "ipython",
    "version": 3
   },
   "file_extension": ".py",
   "mimetype": "text/x-python",
   "name": "python",
   "nbconvert_exporter": "python",
   "pygments_lexer": "ipython3",
   "version": "3.10.14"
  }
 },
 "nbformat": 4,
 "nbformat_minor": 2
}
