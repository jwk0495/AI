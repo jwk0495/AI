{
 "cells": [
  {
   "cell_type": "markdown",
   "metadata": {},
   "source": [
    "### 1. 영상 불러오기 및 정보 확인"
   ]
  },
  {
   "cell_type": "code",
   "execution_count": 2,
   "metadata": {},
   "outputs": [],
   "source": [
    "import cv2\n",
    "\n",
    "cap = cv2.VideoCapture('cat_video.mp4')"
   ]
  },
  {
   "cell_type": "code",
   "execution_count": 3,
   "metadata": {},
   "outputs": [
    {
     "name": "stdout",
     "output_type": "stream",
     "text": [
      "1080.0 1920.0\n"
     ]
    }
   ],
   "source": [
    "frame_width = cap.get(cv2.CAP_PROP_FRAME_WIDTH)\n",
    "frame_height = cap.get(cv2.CAP_PROP_FRAME_HEIGHT)\n",
    "print(frame_height, frame_width)"
   ]
  },
  {
   "cell_type": "markdown",
   "metadata": {},
   "source": [
    "### 2. 영상 출력"
   ]
  },
  {
   "cell_type": "code",
   "execution_count": 4,
   "metadata": {},
   "outputs": [],
   "source": [
    "while True:\n",
    "    ret, frame = cap.read() # rat 영상 이미지가 있는지 여부\n",
    "    if not ret:\n",
    "        break\n",
    "\n",
    "    ## 프레임 표시\n",
    "    frame_gray = cv2.cvtColor(frame, cv2.COLOR_BGR2GRAY)\n",
    "    cv2.imshow(\"frame\", frame_gray)\n",
    "\n",
    "    if cv2.waitKey(25) == ord('q'):  # q 키를 누르면 종료\n",
    "        break\n",
    "\n",
    "cap.release()\n",
    "cv2.destroyAllWindows()"
   ]
  },
  {
   "cell_type": "markdown",
   "metadata": {},
   "source": [
    "### 3. Cam 으로 카메라 정보 출력"
   ]
  },
  {
   "cell_type": "code",
   "execution_count": 5,
   "metadata": {},
   "outputs": [],
   "source": [
    "cap =cv2.VideoCapture(0)\n",
    "\n",
    "# 카메라가 제대로 작동하는지 체크\n",
    "if not cap.isOpened():\n",
    "    print('카메라 컷')\n",
    "    exit()\n",
    "\n",
    "## 웹켐 출력\n",
    "while True:\n",
    "\n",
    "    # 카메라에서 프레임 읽기\n",
    "    ret, frame = cap.read()\n",
    "\n",
    "    if not ret:\n",
    "        print('카메라 컷')\n",
    "        break\n",
    "    frame_gray = cv2.cvtColor(frame, cv2.COLOR_BGR2GRAY)\n",
    "    cv2.imshow(\"frame\", frame)\n",
    "    cv2.imshow(\"frame_gray\", frame_gray)\n",
    "\n",
    "    # 종료 키 Set\n",
    "    if cv2.waitKey(1) == ord('q'):\n",
    "        break\n",
    "cap.release()\n",
    "cv2.destroyAllWindows()    "
   ]
  },
  {
   "cell_type": "markdown",
   "metadata": {},
   "source": [
    "### 얼굴 부위에 이모티콘 이미지 씌우기"
   ]
  },
  {
   "cell_type": "code",
   "execution_count": 35,
   "metadata": {},
   "outputs": [],
   "source": [
    "import cv2\n",
    "# Haar Cascade 파일 로드\n",
    "face_cascade = cv2.CascadeClassifier(cv2.data.haarcascades + 'haarcascade_frontalface_default.xml')\n",
    "\n",
    "# 넣을 이모티콘 이미지 로드\n",
    "emoji_img = cv2.imread('cat_face.png')\n",
    "cv2.imshow(\"emoji_img\", emoji_img)\n",
    "cv2.waitKey(0)\n",
    "cv2.destroyAllWindows()"
   ]
  },
  {
   "cell_type": "code",
   "execution_count": 36,
   "metadata": {},
   "outputs": [],
   "source": [
    "# 웹캠 캡처 객체 생성\n",
    "cap = cv2.VideoCapture(0)\n",
    "\n",
    "while True:\n",
    "    # 프레임별로 캡처\n",
    "    ret, frame = cap.read()\n",
    "    \n",
    "    if not ret:\n",
    "        break  # 프레임을 제대로 읽지 못하면 루프 탈출\n",
    "    \n",
    "    # 프레임을 그레이스케일로 변환\n",
    "    gray = cv2.cvtColor(frame, cv2.COLOR_BGR2GRAY)\n",
    "    \n",
    "    # 얼굴 인식\n",
    "    faces = face_cascade.detectMultiScale(gray, 1.1, 4)\n",
    "    \n",
    "    # 인식된 얼굴 위치에 이모티콘 삽입\n",
    "    for (x, y, w, h) in faces:\n",
    "        # 이모티콘 크기 조절\n",
    "        emoji_resized = cv2.resize(emoji_img, (w, h))\n",
    "        # 원본 프레임에 이모티콘 삽입\n",
    "        frame[y:y+h, x:x+w] = emoji_resized\n",
    "    \n",
    "    # 수정된 프레임 표시\n",
    "    cv2.imshow('Frame with Emoji', frame)\n",
    "    \n",
    "    # 'q' 키를 누르면 루프 탈출\n",
    "    if cv2.waitKey(1) & 0xFF == ord('q'):\n",
    "        break\n",
    "\n",
    "# 자원 해제\n",
    "cap.release()\n",
    "cv2.destroyAllWindows()"
   ]
  },
  {
   "cell_type": "markdown",
   "metadata": {},
   "source": [
    "### 4. 영상 처리 후 새로운 영상으로 저장"
   ]
  },
  {
   "cell_type": "code",
   "execution_count": 22,
   "metadata": {},
   "outputs": [],
   "source": [
    "cap = cv2.VideoCapture('cat_video.mp4')\n",
    "# 영상 저장을 위한 코드\n",
    "frame_width = int(cap.get(cv2.CAP_PROP_FRAME_WIDTH))\n",
    "frame_height = int(cap.get(cv2.CAP_PROP_FRAME_HEIGHT))\n",
    "fps = int(cap.get(cv2.CAP_PROP_FPS))\n",
    "\n",
    "## 영상 저장을 위한 videowriter 객체 설정\n",
    "fourcc = cv2.VideoWriter_fourcc(*\"mp4v\")\n",
    "out = cv2.VideoWriter(\"gray_cat.mp4\", fourcc, fps, (frame_width, frame_height), False)\n",
    "\n",
    "while True:\n",
    "    ret, frame = cap.read() # rat 영상 이미지가 있는지 여부\n",
    "    if not ret:\n",
    "        break\n",
    "\n",
    "    ## 프레임 표시\n",
    "    frame_gray = cv2.cvtColor(frame, cv2.COLOR_BGR2GRAY)\n",
    "\n",
    "    out.write(frame_gray)\n",
    "\n",
    "    cv2.imshow(\"frame\", frame_gray)\n",
    "\n",
    "    if cv2.waitKey(25) == ord('q'):  # q 키를 누르면 종료\n",
    "        break\n",
    "\n",
    "cap.release()\n",
    "cv2.destroyAllWindows()"
   ]
  },
  {
   "cell_type": "code",
   "execution_count": null,
   "metadata": {},
   "outputs": [],
   "source": []
  }
 ],
 "metadata": {
  "kernelspec": {
   "display_name": "sesac2024",
   "language": "python",
   "name": "python3"
  },
  "language_info": {
   "codemirror_mode": {
    "name": "ipython",
    "version": 3
   },
   "file_extension": ".py",
   "mimetype": "text/x-python",
   "name": "python",
   "nbconvert_exporter": "python",
   "pygments_lexer": "ipython3",
   "version": "3.10.14"
  }
 },
 "nbformat": 4,
 "nbformat_minor": 2
}
