{
 "cells": [
  {
   "cell_type": "code",
   "execution_count": 344,
   "metadata": {},
   "outputs": [],
   "source": [
    "# 1. 모듈 임포트\n",
    "import time\n",
    "from selenium import webdriver\n",
    "from selenium.webdriver.chrome.service import Service\n",
    "from webdriver_manager.chrome import ChromeDriverManager\n",
    "from selenium.webdriver.common.by import By\n",
    "from selenium.webdriver import Keys\n",
    "import requests\n",
    "\n",
    "# 폴더 관리를 위한 모듈(5번 항목)\n",
    "import os\n",
    "\n",
    "# 이미지 링크 주소 파싱을 위한 모듈(6번 항목)\n",
    "from urllib.parse import urlparse, unquote"
   ]
  },
  {
   "cell_type": "code",
   "execution_count": 345,
   "metadata": {},
   "outputs": [],
   "source": [
    "# 2. 드라이버 옵션 설정 및 브라우저 띄우기\n",
    "chrom_options = webdriver.ChromeOptions()\n",
    "chrom_options.add_experimental_option('detach', True)\n",
    "driver = webdriver.Chrome(service=Service(ChromeDriverManager().install()), \n",
    "                          options=chrom_options)\n",
    "time.sleep(1)"
   ]
  },
  {
   "cell_type": "code",
   "execution_count": 346,
   "metadata": {},
   "outputs": [],
   "source": [
    "# 3-1. 구글 이미지 검색 주소 이동\n",
    "url = \"https://www.google.com/imghp?hl=ko&tab=wi\"\n",
    "driver.get(url)\n",
    "time.sleep(2)"
   ]
  },
  {
   "cell_type": "code",
   "execution_count": 347,
   "metadata": {},
   "outputs": [],
   "source": [
    "# 3-2. 검색어 입력 및 검색\n",
    "img_name = \"마동석\"\n",
    "search_img = driver.find_element(By.CSS_SELECTOR, \"textarea.gLFyf\")\n",
    "search_img.send_keys(img_name)\n",
    "time.sleep(1)\n",
    "search_img.send_keys(Keys.ENTER)"
   ]
  },
  {
   "cell_type": "code",
   "execution_count": 348,
   "metadata": {},
   "outputs": [],
   "source": [
    "# 4-1. 처음 이미지 선택(선택해서 클릭한 이미지가 원본 이미지)\n",
    "first_img = driver.find_element(By.CSS_SELECTOR, \"img.rg_i.Q4LuWd\")\n",
    "first_img.click()\n",
    "time.sleep(1)"
   ]
  },
  {
   "cell_type": "code",
   "execution_count": 349,
   "metadata": {},
   "outputs": [
    {
     "name": "stdout",
     "output_type": "stream",
     "text": [
      "https://pds.joongang.co.kr/news/component/htmlphoto_mmdata/201608/04/htm_2016080484837486184.jpg\n"
     ]
    }
   ],
   "source": [
    "# 4-2. 원본 이미지 링크 확인\n",
    "target_img = driver.find_element(By.CSS_SELECTOR, \"img.sFlh5c.pT0Scc.iPVvYb\")\n",
    "target_img_link = target_img.get_attribute(\"src\")\n",
    "print(target_img_link)"
   ]
  },
  {
   "cell_type": "code",
   "execution_count": 363,
   "metadata": {},
   "outputs": [
    {
     "name": "stdout",
     "output_type": "stream",
     "text": [
      "'./마동석/' 폴더가 생성되었거나 이미 존재합니다.\n"
     ]
    }
   ],
   "source": [
    "# 5. 목표 사진 개수 설정 및 저장 폴더 설정\n",
    "target_count = 10\n",
    "save_dir = f\"./{img_name}/\"\n",
    "\n",
    "if not os.path.exists(save_dir):\n",
    "    os.makedirs(save_dir, exist_ok=True)\n",
    "\n",
    "print(f\"'{save_dir}' 폴더가 생성되었거나 이미 존재합니다.\")"
   ]
  },
  {
   "cell_type": "code",
   "execution_count": 356,
   "metadata": {},
   "outputs": [],
   "source": [
    "# 6-1. 다음 이미지 버튼 요소 추출 테스트\n",
    "next_div = driver.find_elements(By.CSS_SELECTOR, \"div.HJRshd\")\n",
    "# 처음 이미지 일때는 2개이며, 원하는 요소는 0번째 \n",
    "# 다음 이미지일 때는 버튼이 3개, 원하는 요소는 1번째 따라서 인덱스는 뒤에서 -2\n",
    "target_div = next_div[-2]"
   ]
  },
  {
   "cell_type": "code",
   "execution_count": 357,
   "metadata": {},
   "outputs": [
    {
     "name": "stdout",
     "output_type": "stream",
     "text": [
      "이전 이미지\n",
      "다음 이미지\n",
      "이 검색 결과에 관한 작업 더보기\n",
      "닫기\n"
     ]
    }
   ],
   "source": [
    "# 6-2. 버튼 테스트\n",
    "buttons = target_div.find_elements(By.TAG_NAME, \"button\")\n",
    "# 버튼 확인용\n",
    "for btn in buttons:\n",
    "    print(btn.get_attribute(\"aria-label\"))"
   ]
  },
  {
   "cell_type": "code",
   "execution_count": 361,
   "metadata": {},
   "outputs": [
    {
     "name": "stdout",
     "output_type": "stream",
     "text": [
      "이미지 링크입니다 https://pds.joongang.co.kr/news/component/htmlphoto_mmdata/201608/04/htm_2016080484837486184.jpg\n",
      "이미지 링크입니다 https://upload.wikimedia.org/wikipedia/commons/thumb/1/1f/Ma_Dong-seok.png/250px-Ma_Dong-seok.png\n"
     ]
    }
   ],
   "source": [
    "# 6-3. 이미지 저장 링크 테스트\n",
    "target_img = driver.find_elements(By.CSS_SELECTOR, \"img.sFlh5c.pT0Scc.iPVvYb\")\n",
    "for img in target_img:\n",
    "    print(\"이미지 링크입니다\", img.get_attribute(\"src\"))"
   ]
  },
  {
   "cell_type": "code",
   "execution_count": 362,
   "metadata": {},
   "outputs": [
    {
     "name": "stdout",
     "output_type": "stream",
     "text": [
      "이미지가 성공적으로 다운로드되었습니다: ./마동석/마동석_test.png\n"
     ]
    }
   ],
   "source": [
    "# 6-4 이미지 저장 테스트 - 이미지 데이터를 GET 요청으로 가져오기\n",
    "target_img_link = target_img[-1].get_attribute(\"src\")\n",
    "response = requests.get(target_img_link)\n",
    "\n",
    "# 요청이 성공적인 경우, 이미지를 로컬 파일로 저장\n",
    "if response.status_code == 200:\n",
    "    # 이미지 확장자 확인 및 쿼리 파라미터 제거를 위한 작업\n",
    "    path = urlparse(target_img_link).path\n",
    "    decoded_path = unquote(path)\n",
    "    file_name = decoded_path.split(\"/\")[-1]\n",
    "    file_ext = file_name.split(\".\")[-1]\n",
    "    save_name = f\"{save_dir}{img_name}_test.{file_ext}\"\n",
    "    # 바이너리 쓰기 모드로 파일 열기\n",
    "    with open(save_name, 'wb') as file:\n",
    "        file.write(response.content)\n",
    "    print(f\"이미지가 성공적으로 다운로드되었습니다: {save_name}\")\n",
    "else:\n",
    "    print(\"이미지 다운로드 실패\")"
   ]
  },
  {
   "cell_type": "code",
   "execution_count": 374,
   "metadata": {},
   "outputs": [
    {
     "name": "stdout",
     "output_type": "stream",
     "text": [
      "https://upload.wikimedia.org/wikipedia/commons/thumb/1/1f/Ma_Dong-seok.png/250px-Ma_Dong-seok.png\n",
      "이미지가 성공적으로 다운로드되었습니다: ./마동석/마동석_0.png\n",
      "https://i.namu.wiki/i/Pkn5aM5-AsBHliHLNmpgQGNfePQSdIwIy1L52KVo_o3biJNKCyuqRvRt1o6l8WrWJgH5VNSZC28QXwZp_b990w.webp\n",
      "이미지가 성공적으로 다운로드되었습니다: ./마동석/마동석_1.webp\n",
      "https://pds.joongang.co.kr/news/component/htmlphoto_mmdata/201912/15/07712b9e-e451-49c7-a65c-fb94b6dcda0b.jpg\n",
      "이미지가 성공적으로 다운로드되었습니다: ./마동석/마동석_2.jpg\n",
      "https://file2.nocutnews.co.kr/newsroom/image/2023/06/06/202306060141536125_0.jpg\n",
      "이미지가 성공적으로 다운로드되었습니다: ./마동석/마동석_3.jpg\n",
      "https://images.khan.co.kr/article/2021/11/30/l_2021113002001725100347971.jpg\n",
      "이미지가 성공적으로 다운로드되었습니다: ./마동석/마동석_4.jpg\n",
      "https://i.namu.wiki/i/qGaWvOtSaMGOUrr5qyU_CiymXSeZeslEIAxlhRYU8a6DxBetExjgXlxYZdjIcwkvGWjCddGcyzUMOe_zLM2-bg.webp\n",
      "이미지가 성공적으로 다운로드되었습니다: ./마동석/마동석_5.webp\n",
      "https://www.newsflix.co.kr/news/photo/202210/10542_9844_055.png\n",
      "이미지가 성공적으로 다운로드되었습니다: ./마동석/마동석_6.png\n",
      "https://image.newsis.com/2023/07/09/NISI20230709_0001310466_web.jpg\n",
      "이미지가 성공적으로 다운로드되었습니다: ./마동석/마동석_7.jpg\n",
      "https://img.khan.co.kr/news/2023/05/24/news-p.v1.20230524.0f8fd743d4c34aeb849a6791b8f40f5f_P1.jpg\n",
      "이미지가 성공적으로 다운로드되었습니다: ./마동석/마동석_8.jpg\n",
      "https://img.tvreportcdn.de/cms-content/uploads/2023/05/24/46c2274c-f832-4e27-80bf-fa3982329ffd.jpg\n",
      "이미지가 성공적으로 다운로드되었습니다: ./마동석/마동석_9.jpg\n"
     ]
    }
   ],
   "source": [
    "# 6-5. 최종 : 다음 이미지 클릭하며, 원본 이미지 저장\n",
    "for count in range(target_count):\n",
    "    # 다음 이미지 버튼 요소 가져오기\n",
    "    next_div = driver.find_elements(By.CSS_SELECTOR, \"div.HJRshd\")\n",
    "    target_div = next_div[-2] \n",
    "\n",
    "    # 다음 이미지 버튼 클릭\n",
    "    buttons = target_div.find_elements(By.TAG_NAME, \"button\")\n",
    "    next_btn = buttons[1]\n",
    "    next_btn.click() # 다음 이미지 버튼 클릭\n",
    "\n",
    "    # target 이미지 선택\n",
    "    target_img = driver.find_elements(By.CSS_SELECTOR, \"img.sFlh5c.pT0Scc.iPVvYb\")[-1]\n",
    "    target_img_link = target_img.get_attribute(\"src\")\n",
    "    print(target_img_link)\n",
    "\n",
    "    # 이미지 데이터를 GET 요청으로 가져오기 - header 정보를 넣어 주는 것이 좋습니다.\n",
    "    headers = {\n",
    "        'User-Agent': 'Mozilla/5.0 (Windows NT 10.0; Win64; x64) AppleWebKit/537.36 (KHTML, like Gecko) Chrome/58.0.3029.110 Safari/537.3'\n",
    "    }\n",
    "    response = requests.get(target_img_link, headers=headers)\n",
    "    # 요청이 성공적인 경우, 이미지를 로컬 파일로 저장\n",
    "    if response.status_code == 200:\n",
    "        # 이미지 확장자 확인 및 쿼리 파라미터 제거를 위한 작업\n",
    "        path = urlparse(target_img_link).path\n",
    "        decoded_path = unquote(path)\n",
    "        file_name = decoded_path.split(\"/\")[-1]\n",
    "        file_ext = file_name.split(\".\")[-1]\n",
    "        save_name = f\"{save_dir}{img_name}_{count}.{file_ext}\"\n",
    "        # 바이너리 쓰기 모드로 파일 열기\n",
    "        with open(save_name, 'wb') as file:\n",
    "            file.write(response.content)\n",
    "        print(f\"이미지가 성공적으로 다운로드되었습니다: {save_name}\")\n",
    "    else:\n",
    "        print(f\"{response.status_code}_이미지 다운로드 실패\")\n",
    "    time.sleep(1)"
   ]
  },
  {
   "cell_type": "code",
   "execution_count": null,
   "metadata": {},
   "outputs": [],
   "source": []
  }
 ],
 "metadata": {
  "kernelspec": {
   "display_name": "sesac2024",
   "language": "python",
   "name": "python3"
  },
  "language_info": {
   "codemirror_mode": {
    "name": "ipython",
    "version": 3
   },
   "file_extension": ".py",
   "mimetype": "text/x-python",
   "name": "python",
   "nbconvert_exporter": "python",
   "pygments_lexer": "ipython3",
   "version": "3.10.13"
  }
 },
 "nbformat": 4,
 "nbformat_minor": 2
}
