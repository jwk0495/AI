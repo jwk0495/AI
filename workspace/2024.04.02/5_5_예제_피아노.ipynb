{
 "cells": [
  {
   "cell_type": "code",
   "execution_count": 17,
   "metadata": {},
   "outputs": [],
   "source": [
    "import cv2\n",
    "import mediapipe as mp\n",
    "import numpy as np\n",
    "\n",
    "# MediaPipe 핸드 모델 초기화\n",
    "mp_hands = mp.solutions.hands\n",
    "hands = mp_hands.Hands(static_image_mode=False,\n",
    "                       max_num_hands=1,\n",
    "                       min_detection_confidence=0.5,\n",
    "                       min_tracking_confidence=0.5)\n",
    "\n",
    "cap = cv2.VideoCapture(0)\n",
    "\n",
    "# 건반 정의 (x 시작점, y 시작점, 너비, 높이) 및 각 건반에 해당하는 음계\n",
    "keys = [(100, 350, 50, 100), (150, 350, 50, 100), (200, 350, 50, 100), (250, 350, 50, 100), (300, 350, 50, 100)]\n",
    "key_scales = ['C', 'D', 'E', 'F', 'G']  # 각 건반에 해당하는 음계\n",
    "key_colors = [(255, 0, 0), (0, 255, 0), (0, 0, 255), (255, 255, 0), (255, 165, 0)]\n",
    "key_status = [False] * len(keys)  # 건반의 상태 (눌림/눌리지 않음)\n",
    "\n",
    "while True:\n",
    "    success, frame = cap.read()\n",
    "    if not success:\n",
    "        break\n",
    "\n",
    "    # 프레임 좌우 반전\n",
    "    frame = cv2.flip(frame, 1)  \n",
    "    rgb_frame = cv2.cvtColor(frame, cv2.COLOR_BGR2RGB)\n",
    "    results = hands.process(rgb_frame)\n",
    "\n",
    "    # 건반 그리기\n",
    "    for i, key in enumerate(keys):\n",
    "        cv2.rectangle(frame, (key[0], key[1]), (key[0] + key[2], key[1] + key[3]), key_colors[i])\n",
    "        cv2.putText(frame, key_scales[i], (key[0] + 10, key[1] + 70), cv2.FONT_HERSHEY_SIMPLEX, 1, (255, 255, 255), 2)\n",
    "        \n",
    "    if results.multi_hand_landmarks:\n",
    "        for hand_landmarks in results.multi_hand_landmarks:\n",
    "            # 인덱스 손가락 끝의 좌표\n",
    "            x = int(hand_landmarks.landmark[mp_hands.HandLandmark.INDEX_FINGER_TIP].x * frame.shape[1])\n",
    "            y = int(hand_landmarks.landmark[mp_hands.HandLandmark.INDEX_FINGER_TIP].y * frame.shape[0])\n",
    "            \n",
    "            # 건반을 눌렀는지 확인하고, 해당하는 음계 출력\n",
    "            for i, key in enumerate(keys):\n",
    "                cv2.rectangle(frame, (key[0], key[1]), (key[0] + key[2], key[1] + key[3]), key_colors[i], cv2.FILLED if key_status[i] else 2)\n",
    "                if key[0] <= x <= key[0] + key[2] and key[1] <= y <= key[1] + key[3]:\n",
    "                    cv2.putText(frame, key_scales[i], (key[0] + 10, key[1] + 70), cv2.FONT_HERSHEY_SIMPLEX, 1, (255, 255, 255), 2)\n",
    "                    key_status[i] = True\n",
    "                else:\n",
    "                    key_status[i] = False\n",
    "\n",
    "    cv2.imshow('Virtual Piano Scales', frame)\n",
    "\n",
    "    if cv2.waitKey(5) & 0xFF == ord('q'):\n",
    "        break\n",
    "\n",
    "cap.release()\n",
    "cv2.destroyAllWindows()\n"
   ]
  },
  {
   "cell_type": "code",
   "execution_count": null,
   "metadata": {},
   "outputs": [],
   "source": []
  }
 ],
 "metadata": {
  "kernelspec": {
   "display_name": "sesac2024",
   "language": "python",
   "name": "python3"
  },
  "language_info": {
   "codemirror_mode": {
    "name": "ipython",
    "version": 3
   },
   "file_extension": ".py",
   "mimetype": "text/x-python",
   "name": "python",
   "nbconvert_exporter": "python",
   "pygments_lexer": "ipython3",
   "version": "3.10.14"
  }
 },
 "nbformat": 4,
 "nbformat_minor": 2
}
