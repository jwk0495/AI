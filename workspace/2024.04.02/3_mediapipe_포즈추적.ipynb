{
 "cells": [
  {
   "cell_type": "code",
   "execution_count": 1,
   "metadata": {},
   "outputs": [],
   "source": [
    "import mediapipe as mp\n",
    "import cv2"
   ]
  },
  {
   "cell_type": "code",
   "execution_count": 4,
   "metadata": {},
   "outputs": [],
   "source": [
    "from PIL import ImageFont, ImageDraw, Image\n",
    "import numpy as np\n",
    "\n",
    "def draw_text(img, text, position, font_size, font_color):\n",
    "    font_path = \"C:/Windows/Fonts/gulim.ttc\"  # Windows에서 Gulim 폰트 경로\n",
    "\n",
    "    # opencv 이미지를 PIL이미지로 변환\n",
    "    img_pil = Image.fromarray(img)\n",
    "\n",
    "    # PIL Draw 객체 생성\n",
    "    draw = ImageDraw.Draw(img_pil)\n",
    "\n",
    "    # 폰트 스타일 지정\n",
    "    font = ImageFont.truetype(font_path, font_size)\n",
    "\n",
    "    # PIL 이미지에 텍스트 입력\n",
    "    draw.text(position, text, font=font, fill=font_color)\n",
    "    return np.array(img_pil) # 최종 numpy array 로 이미지 형태 반환"
   ]
  },
  {
   "cell_type": "code",
   "execution_count": 3,
   "metadata": {},
   "outputs": [],
   "source": [
    "# MediaPipe Pose 설정\n",
    "pose = mp.solutions.pose.Pose(\n",
    "    static_image_mode=False,        # 입력 이미지가 정적 이미지인지, 비디오 스트림 프레임인지 설정(False인 경우 비디오 스트림으로 처리)\n",
    "    model_complexity=1,             # 0,1,2 의 순으로 정확도가 올라가는 대신 속도가 느림\n",
    "    smooth_landmarks=True,          # 프레임간의 랜드 마크 위치를 부드럽게 처리할 지 여부 결정\n",
    "    enable_segmentation=True,       # 포즈 검출과 인물 마스크를 생성할지 여부 결정. 배경 제거 등의 용도로 사용\n",
    "    smooth_segmentation=True,       # 인물 마스크의 경계를 부드럽게 처리\n",
    "    min_detection_confidence=0.5,   # 사람 검출 최소 신뢰도 임계값\n",
    "    min_tracking_confidence=0.5     # 포즈 추적의 신뢰도 임계값\n",
    ")\n",
    "\n",
    "# 그리기 함수 초기화\n",
    "mp_drawing = mp.solutions.drawing_utils\n",
    "\n",
    "# 웹캠 캡처\n",
    "cap = cv2.VideoCapture(0)\n",
    "\n",
    "while True:\n",
    "    # 이미지 읽기\n",
    "    ret, image = cap.read()\n",
    "    if not ret:\n",
    "        break\n",
    "\n",
    "    # 이미지 변환\n",
    "    image = cv2.cvtColor(image, cv2.COLOR_BGR2RGB)\n",
    "\n",
    "    # 포즈 추정\n",
    "    results = pose.process(image)\n",
    "\n",
    "    # 추정된 포즈 정보 확인\n",
    "    if results.pose_landmarks:\n",
    "\n",
    "        # 연결된 랜드마크 시각화\n",
    "        mp_drawing.draw_landmarks(\n",
    "            image, results.pose_landmarks, mp.solutions.pose.POSE_CONNECTIONS)\n",
    "\n",
    "    # 세그멘테이션 마스크 추출 및 배경 제거\n",
    "    image = cv2.cvtColor(image, cv2.COLOR_RGB2BGR)\n",
    "\n",
    "    if results.segmentation_mask is not None:\n",
    "        # 세그멘테이션 마스크를 이미지 크기에 맞게 조정\n",
    "        segmentation_mask = results.segmentation_mask\n",
    "        segmentation_mask = (segmentation_mask > 0.1)  # 임계값 적용\n",
    "        segmentation_mask = segmentation_mask.astype(float)\n",
    "        \n",
    "        # 세그멘테이션 마스크를 3채널로 복제하여 컬러 이미지와 동일한 차원으로 만듦\n",
    "        mask_three_channel = cv2.merge([segmentation_mask, segmentation_mask, segmentation_mask])\n",
    "        \n",
    "        # 마스크를 적용하여 배경을 제거한 이미지 생성\n",
    "        # foreground = cv2.multiply(mask_three_channel, image.astype(float))\n",
    "        # cv2.imshow('Foreground', foreground.astype('uint8'))\n",
    "\n",
    "    # 이미지 출력\n",
    "    cv2.imshow('MediaPipe Pose', image)\n",
    "\n",
    "    # 키 입력 처리\n",
    "    if cv2.waitKey(5) & 0xFF == ord('q'):\n",
    "        break\n",
    "\n",
    "cap.release()\n",
    "cv2.destroyAllWindows()"
   ]
  },
  {
   "cell_type": "code",
   "execution_count": null,
   "metadata": {},
   "outputs": [],
   "source": []
  }
 ],
 "metadata": {
  "kernelspec": {
   "display_name": "sesac2024",
   "language": "python",
   "name": "python3"
  },
  "language_info": {
   "codemirror_mode": {
    "name": "ipython",
    "version": 3
   },
   "file_extension": ".py",
   "mimetype": "text/x-python",
   "name": "python",
   "nbconvert_exporter": "python",
   "pygments_lexer": "ipython3",
   "version": "3.10.14"
  }
 },
 "nbformat": 4,
 "nbformat_minor": 2
}
