{
 "cells": [
  {
   "cell_type": "code",
   "execution_count": 6,
   "metadata": {},
   "outputs": [],
   "source": [
    "import cv2\n",
    "import mediapipe as mp\n",
    "import numpy as np\n",
    "\n",
    "# MediaPipe 핸드 모델 초기화\n",
    "mp_hands = mp.solutions.hands\n",
    "hands = mp_hands.Hands(static_image_mode=False,\n",
    "                       max_num_hands=1,\n",
    "                       min_detection_confidence=0.5,\n",
    "                       min_tracking_confidence=0.5)\n",
    "mp_drawing = mp.solutions.drawing_utils\n",
    "\n",
    "# 그리기 캔버스 초기화\n",
    "canvas = None\n",
    "# 현재 그리기 위치\n",
    "drawing = False\n",
    "# 마지막 인덱스 손가락 위치\n",
    "last_x, last_y = 0, 0\n",
    "\n",
    "cap = cv2.VideoCapture(0)\n",
    "\n",
    "while True:\n",
    "    success, frame = cap.read()\n",
    "    if not success:\n",
    "        break\n",
    "    frame = cv2.flip(frame, 1)\n",
    "    # 캔버스가 초기화되지 않았다면 현재 프레임 크기로 초기화\n",
    "    if canvas is None:\n",
    "        canvas = np.zeros_like(frame)\n",
    "\n",
    "    # BGR 이미지를 RGB로 변환\n",
    "    rgb_frame = cv2.cvtColor(frame, cv2.COLOR_BGR2RGB)\n",
    "\n",
    "    # 손 감지 결과\n",
    "    results = hands.process(rgb_frame)\n",
    "\n",
    "    # 손 감지\n",
    "    if results.multi_hand_landmarks:\n",
    "        for hand_landmarks in results.multi_hand_landmarks:\n",
    "            # 인덱스 손가락 끝의 랜드마크 인덱스는 8번\n",
    "            x = int(hand_landmarks.landmark[8].x * frame.shape[1])\n",
    "            y = int(hand_landmarks.landmark[8].y * frame.shape[0])\n",
    "\n",
    "            if drawing:\n",
    "                # 이전 위치와 현재 위치 사이를 선으로 연결\n",
    "                cv2.line(canvas, (last_x, last_y), (x, y), (255, 0, 0), 5)\n",
    "            last_x, last_y = x, y\n",
    "            drawing = True\n",
    "\n",
    "    # 결과 화면에 그리기\n",
    "    frame = cv2.add(frame, canvas)\n",
    "    cv2.imshow('Hand Tracking Drawing', frame)\n",
    "\n",
    "    if cv2.waitKey(5) & 0xFF == ord('q'):\n",
    "        break\n",
    "\n",
    "cap.release()\n",
    "cv2.destroyAllWindows()"
   ]
  },
  {
   "cell_type": "code",
   "execution_count": null,
   "metadata": {},
   "outputs": [],
   "source": []
  }
 ],
 "metadata": {
  "kernelspec": {
   "display_name": "sesac2024",
   "language": "python",
   "name": "python3"
  },
  "language_info": {
   "codemirror_mode": {
    "name": "ipython",
    "version": 3
   },
   "file_extension": ".py",
   "mimetype": "text/x-python",
   "name": "python",
   "nbconvert_exporter": "python",
   "pygments_lexer": "ipython3",
   "version": "3.10.14"
  }
 },
 "nbformat": 4,
 "nbformat_minor": 2
}
