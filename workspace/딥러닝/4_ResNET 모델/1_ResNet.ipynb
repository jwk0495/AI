{
 "cells": [
  {
   "cell_type": "markdown",
   "metadata": {},
   "source": [
    "### 1. ResNet 모델 정의"
   ]
  },
  {
   "cell_type": "code",
   "execution_count": 1,
   "metadata": {},
   "outputs": [
    {
     "name": "stderr",
     "output_type": "stream",
     "text": [
      "c:\\Users\\MSI\\.conda\\envs\\sesac_gpu_env310_python=3.10\\Lib\\site-packages\\torchvision\\models\\_utils.py:208: UserWarning: The parameter 'pretrained' is deprecated since 0.13 and may be removed in the future, please use 'weights' instead.\n",
      "  warnings.warn(\n",
      "c:\\Users\\MSI\\.conda\\envs\\sesac_gpu_env310_python=3.10\\Lib\\site-packages\\torchvision\\models\\_utils.py:223: UserWarning: Arguments other than a weight enum or `None` for 'weights' are deprecated since 0.13 and may be removed in the future. The current behavior is equivalent to passing `weights=None`.\n",
      "  warnings.warn(msg)\n"
     ]
    }
   ],
   "source": [
    "import torch\n",
    "import torch.nn as nn\n",
    "import torchvision.models as models\n",
    "\n",
    "# ResNet 모델 정의\n",
    "model_ResNet = models.resnet18(pretrained=False, num_classes=10)"
   ]
  },
  {
   "cell_type": "markdown",
   "metadata": {},
   "source": [
    "### 2. 데이터셋 준비"
   ]
  },
  {
   "cell_type": "code",
   "execution_count": 4,
   "metadata": {},
   "outputs": [
    {
     "name": "stdout",
     "output_type": "stream",
     "text": [
      "Files already downloaded and verified\n",
      "Files already downloaded and verified\n",
      "Files already downloaded and verified\n"
     ]
    }
   ],
   "source": [
    "import torch\n",
    "import torchvision\n",
    "import torchvision.transforms as transforms\n",
    "import torch.nn as nn\n",
    "import torch.optim as optim\n",
    "from torch.utils.data import DataLoader, Subset\n",
    "import numpy as np\n",
    "\n",
    "# 데이터셋 준비\n",
    "transform = transforms.Compose(\n",
    "    [transforms.ToTensor(),\n",
    "     transforms.Normalize((0.5, 0.5, 0.5), (0.5, 0.5, 0.5))])\n",
    "\n",
    "# 전체 train 데이터셋\n",
    "trainset_full = torchvision.datasets.CIFAR10(root='../data', train=True, download=True, transform=transform)\n",
    "\n",
    "# 이중에서 1퍼센트만 사용해보기, \n",
    "num_train = len(trainset_full)\n",
    "indices = list(range(num_train))\n",
    "np.random.shuffle(indices) # 랜덤 선택\n",
    "split = int(np.floor(0.01 * num_train))\n",
    "train_idx = indices[:split]\n",
    "\n",
    "# train 데이터셋\n",
    "trainset = Subset(trainset_full, train_idx)\n",
    "trainloader = DataLoader(trainset, batch_size=64, shuffle=True, num_workers=2)\n",
    "\n",
    "# validation 데이터셋\n",
    "# CIFAR-10 검증 데이터셋 로드\n",
    "valset_full = torchvision.datasets.CIFAR10(root='../data', train=False, download=True, transform=transform)\n",
    "\n",
    "# 이중에서 1퍼센트만 사용해보기\n",
    "num_val = len(valset_full)\n",
    "val_indices = list(range(num_val))\n",
    "np.random.shuffle(val_indices) # 랜덤 선택\n",
    "val_split = int(np.floor(0.01 * num_val))  # 예: 전체 데이터셋의 10%만 사용\n",
    "val_idx = val_indices[:val_split]\n",
    "\n",
    "# val 데이터셋\n",
    "valset = Subset(valset_full, val_idx)\n",
    "val_loader = DataLoader(valset, batch_size=64, shuffle=False, num_workers=2)\n",
    "\n",
    "\n",
    "\n",
    "# test 데이터셋\n",
    "testset_full = torchvision.datasets.CIFAR10(root='../data', train=False,\n",
    "                                       download=True, transform=transform)\n",
    "testset = Subset(testset_full, val_idx)\n",
    "\n",
    "testloader = DataLoader(testset, batch_size=64, shuffle=False, num_workers=2)\n",
    "\n",
    "classes = ('plane', 'car', 'bird', 'cat', 'deer', 'dog', 'frog', 'horse', 'ship', 'truck')"
   ]
  },
  {
   "cell_type": "markdown",
   "metadata": {},
   "source": [
    "### 3. 손실 함수와 옵티마이저 정의"
   ]
  },
  {
   "cell_type": "code",
   "execution_count": 5,
   "metadata": {},
   "outputs": [],
   "source": [
    "criterion = nn.CrossEntropyLoss()\n",
    "optimizer = torch.optim.Adam(model_ResNet.parameters(), lr=0.001)"
   ]
  },
  {
   "cell_type": "markdown",
   "metadata": {},
   "source": [
    "### 4. 학습 함수 정의"
   ]
  },
  {
   "cell_type": "code",
   "execution_count": 6,
   "metadata": {},
   "outputs": [],
   "source": [
    "def train_and_validate(model, train_loader, val_loader, optimizer, criterion, epochs):\n",
    "    train_losses = []\n",
    "    val_losses = []\n",
    "\n",
    "    for epoch in range(epochs):\n",
    "        # 모델을 학습 모드로 설정\n",
    "        model.train()\n",
    "        running_loss = 0.0\n",
    "        # 학습 데이터에 대한 반복\n",
    "        for inputs, labels in train_loader:\n",
    "            optimizer.zero_grad()  # 그라디언트 초기화\n",
    "            outputs = model(inputs)  # 모델을 통한 예측\n",
    "            loss = criterion(outputs, labels)  # 손실 계산\n",
    "            loss.backward()  # 역전파\n",
    "            optimizer.step()  # 최적화 단계\n",
    "\n",
    "            running_loss += loss.item()\n",
    "\n",
    "        # 에포크의 평균 학습 손실 계산\n",
    "        epoch_loss = running_loss / len(train_loader)\n",
    "        train_losses.append(epoch_loss)\n",
    "        print(f'Epoch [{epoch + 1}/{epochs}] - Training loss: {epoch_loss:.3f}')\n",
    "\n",
    "        # 검증 과정\n",
    "        model.eval()  # 모델을 평가 모드로 설정\n",
    "        running_val_loss = 0.0\n",
    "        with torch.no_grad():\n",
    "            for inputs, labels in val_loader:\n",
    "                outputs = model(inputs)\n",
    "                loss = criterion(outputs, labels)\n",
    "                running_val_loss += loss.item()\n",
    "\n",
    "        # 에포크의 평균 검증 손실 계산\n",
    "        epoch_val_loss = running_val_loss / len(val_loader)\n",
    "        val_losses.append(epoch_val_loss)\n",
    "        print(f'Epoch [{epoch + 1}/{epochs}] - Validation loss: {epoch_val_loss:.3f}')\n",
    "\n",
    "    return train_losses, val_losses"
   ]
  },
  {
   "cell_type": "markdown",
   "metadata": {},
   "source": [
    "### 5. 평가 함수 정의"
   ]
  },
  {
   "cell_type": "code",
   "execution_count": 7,
   "metadata": {},
   "outputs": [],
   "source": [
    "import torchmetrics\n",
    "\n",
    "def evaluate(model, loader):\n",
    "    model.eval()\n",
    "    accuracy_metric = torchmetrics.Accuracy(task='multiclass', num_classes=10, average='macro') \n",
    "    with torch.no_grad():\n",
    "        for data in loader:\n",
    "            images, labels = data\n",
    "            outputs = model(images)\n",
    "            # 정확도 업데이트\n",
    "            accuracy_metric.update(outputs, labels)\n",
    "    accuracy = accuracy_metric.compute()  # 정확도 계산\n",
    "    print(f'테스트 이미지 정확도 계산: {accuracy.item() * 100:.2f}%')\n",
    "    return accuracy.item()\n"
   ]
  },
  {
   "cell_type": "markdown",
   "metadata": {},
   "source": [
    "### 6. 모델 학습"
   ]
  },
  {
   "cell_type": "code",
   "execution_count": 8,
   "metadata": {},
   "outputs": [
    {
     "name": "stdout",
     "output_type": "stream",
     "text": [
      "Epoch [1/10] - Training loss: 2.344\n",
      "Epoch [1/10] - Validation loss: 2.293\n",
      "Epoch [2/10] - Training loss: 1.476\n",
      "Epoch [2/10] - Validation loss: 2.332\n",
      "Epoch [3/10] - Training loss: 0.730\n",
      "Epoch [3/10] - Validation loss: 3.154\n",
      "Epoch [4/10] - Training loss: 0.334\n",
      "Epoch [4/10] - Validation loss: 3.591\n",
      "Epoch [5/10] - Training loss: 0.179\n",
      "Epoch [5/10] - Validation loss: 3.108\n",
      "Epoch [6/10] - Training loss: 0.080\n",
      "Epoch [6/10] - Validation loss: 2.798\n",
      "Epoch [7/10] - Training loss: 0.047\n",
      "Epoch [7/10] - Validation loss: 3.090\n",
      "Epoch [8/10] - Training loss: 0.046\n",
      "Epoch [8/10] - Validation loss: 3.244\n",
      "Epoch [9/10] - Training loss: 0.047\n",
      "Epoch [9/10] - Validation loss: 3.237\n",
      "Epoch [10/10] - Training loss: 0.035\n",
      "Epoch [10/10] - Validation loss: 2.970\n"
     ]
    }
   ],
   "source": [
    "history = train_and_validate(model_ResNet, trainloader, val_loader, optimizer, criterion, epochs=10)"
   ]
  },
  {
   "cell_type": "markdown",
   "metadata": {},
   "source": [
    "### 7. 학습 과정 시각화 해보기"
   ]
  },
  {
   "cell_type": "code",
   "execution_count": 9,
   "metadata": {},
   "outputs": [
    {
     "data": {
      "image/png": "[encoded data removed]",
      "text/plain": [
       "<Figure size 640x480 with 1 Axes>"
      ]
     },
     "metadata": {},
     "output_type": "display_data"
    }
   ],
   "source": [
    "import matplotlib.pyplot as plt\n",
    "\n",
    "# train_and_validate 함수로부터 손실 기록 받기\n",
    "train_losses, val_losses = history\n",
    "\n",
    "# 에포크 번호를 기준으로 그래프를 그립니다.\n",
    "epochs = range(1, len(train_losses) + 1)\n",
    "\n",
    "# 학습 및 검증 손실 그래프 그리기\n",
    "plt.plot(epochs, train_losses, 'bo-', label='Training loss')\n",
    "plt.plot(epochs, val_losses, 'ro-', label='Validation loss')\n",
    "plt.title('Training and Validation loss')\n",
    "plt.xlabel('Epochs')\n",
    "plt.ylabel('Loss')\n",
    "plt.legend()\n",
    "\n",
    "plt.show()"
   ]
  },
  {
   "cell_type": "markdown",
   "metadata": {},
   "source": [
    "### 8. 모델 평가 해보기"
   ]
  },
  {
   "cell_type": "code",
   "execution_count": 10,
   "metadata": {},
   "outputs": [
    {
     "name": "stdout",
     "output_type": "stream",
     "text": [
      "테스트 이미지 정확도 계산: 28.28%\n"
     ]
    },
    {
     "data": {
      "text/plain": [
       "0.28280162811279297"
      ]
     },
     "execution_count": 10,
     "metadata": {},
     "output_type": "execute_result"
    }
   ],
   "source": [
    "evaluate(model_ResNet, testloader)"
   ]
  },
  {
   "cell_type": "code",
   "execution_count": null,
   "metadata": {},
   "outputs": [],
   "source": []
  }
 ],
 "metadata": {
  "kernelspec": {
   "display_name": "env_dl310",
   "language": "python",
   "name": "python3"
  },
  "language_info": {
   "codemirror_mode": {
    "name": "ipython",
    "version": 3
   },
   "file_extension": ".py",
   "mimetype": "text/x-python",
   "name": "python",
   "nbconvert_exporter": "python",
   "pygments_lexer": "ipython3",
   "version": "3.12.2"
  }
 },
 "nbformat": 4,
 "nbformat_minor": 2
}
