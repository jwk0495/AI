{
 "cells": [
  {
   "cell_type": "code",
   "execution_count": 1,
   "metadata": {},
   "outputs": [
    {
     "name": "stdout",
     "output_type": "stream",
     "text": [
      "원본 텍스트    토큰: ['이', '것', '은', '자연어', '처리', '를', '위', '한', '한글', '텍스트', '입니다', '.', '텍스트', '를', '분석', '하고', '처리', '합니다', '.']\n",
      "불용어 제거 후 토큰: ['이', '것', '은', '자연어', '를', '위', '한', '한글', '입니다', '.', '를', '분석', '하고', '합니다', '.']\n"
     ]
    }
   ],
   "source": [
    "from konlpy.tag import Okt\n",
    "okt = Okt()\n",
    "\n",
    "# 예제 텍스트\n",
    "text = \"이 것은 자연어 처리를 위한 한글 텍스트입니다. 텍스트를 분석하고 처리합니다.\"\n",
    "\n",
    "# 텍스트 토큰화\n",
    "tokens = okt.morphs(text)\n",
    "\n",
    "# 불용어 리스트 정의\n",
    "stopwords = ['이 것', '처리', '텍스트', '위한']\n",
    "\n",
    "# 불용어 제거\n",
    "tokens_without_stopwords = [word for word in tokens if not word in stopwords]\n",
    "\n",
    "print(\"원본 텍스트    토큰:\", tokens)\n",
    "print(\"불용어 제거 후 토큰:\", tokens_without_stopwords)\n"
   ]
  },
  {
   "cell_type": "code",
   "execution_count": 20,
   "metadata": {},
   "outputs": [
    {
     "name": "stdout",
     "output_type": "stream",
     "text": [
      "특정 단어를 포함하는 문자열들:\n",
      "['오늘은 날씨가 좋네요.', '오늘은 휴식을 취하고 싶어요.']\n"
     ]
    }
   ],
   "source": [
    "# 주어진 문자열 리스트\n",
    "strings = [\n",
    "    \"안녕하세요, 반갑습니다.\",\n",
    "    \"오늘은 날씨가 좋네요.\",\n",
    "    \"내일은 비가 올 것 같아요.\",\n",
    "    \"저는 파이썬을 공부하고 있어요.\",\n",
    "    \"오늘은 휴식을 취하고 싶어요.\",\n",
    "]\n",
    "\n",
    "# 특정 단어\n",
    "keyword = \"오늘\"\n",
    "\n",
    "# 특정 단어를 포함하는 문자열들을 담을 리스트\n",
    "strings_with_keyword = []\n",
    "\n",
    "# 주어진 문자열들을 반복하며 특정 단어가 포함된 문자열을 찾아 리스트에 추가\n",
    "for string in strings:\n",
    "    if keyword in string:\n",
    "        strings_with_keyword.append(string)\n",
    "\n",
    "# 결과 출력\n",
    "print(\"특정 단어를 포함하는 문자열들:\")\n",
    "print(strings_with_keyword)"
   ]
  },
  {
   "cell_type": "code",
   "execution_count": 12,
   "metadata": {},
   "outputs": [],
   "source": [
    "import MeCab"
   ]
  },
  {
   "cell_type": "code",
   "execution_count": 14,
   "metadata": {},
   "outputs": [
    {
     "ename": "RuntimeError",
     "evalue": "",
     "output_type": "error",
     "traceback": [
      "\u001b[1;31m---------------------------------------------------------------------------\u001b[0m",
      "\u001b[1;31mRuntimeError\u001b[0m                              Traceback (most recent call last)",
      "Cell \u001b[1;32mIn[14], line 1\u001b[0m\n\u001b[1;32m----> 1\u001b[0m m \u001b[38;5;241m=\u001b[39m \u001b[43mMeCab\u001b[49m\u001b[38;5;241;43m.\u001b[39;49m\u001b[43mTagger\u001b[49m\u001b[43m(\u001b[49m\u001b[43m)\u001b[49m\n\u001b[0;32m      2\u001b[0m m\u001b[38;5;241m.\u001b[39mparse(\u001b[38;5;124m\"\u001b[39m\u001b[38;5;124m안녕하세요. 테스트 입니다요.\u001b[39m\u001b[38;5;124m\"\u001b[39m)\n",
      "File \u001b[1;32mc:\\Users\\MSI\\.conda\\envs\\sesac2024_2\\lib\\site-packages\\MeCab.py:355\u001b[0m, in \u001b[0;36mTagger.__init__\u001b[1;34m(self, *args)\u001b[0m\n\u001b[0;32m    354\u001b[0m \u001b[38;5;28;01mdef\u001b[39;00m \u001b[38;5;21m__init__\u001b[39m(\u001b[38;5;28mself\u001b[39m, \u001b[38;5;241m*\u001b[39margs):\n\u001b[1;32m--> 355\u001b[0m     _MeCab\u001b[38;5;241m.\u001b[39mTagger_swiginit(\u001b[38;5;28mself\u001b[39m, \u001b[43m_MeCab\u001b[49m\u001b[38;5;241;43m.\u001b[39;49m\u001b[43mnew_Tagger\u001b[49m\u001b[43m(\u001b[49m\u001b[38;5;241;43m*\u001b[39;49m\u001b[43margs\u001b[49m\u001b[43m)\u001b[49m)\n",
      "\u001b[1;31mRuntimeError\u001b[0m: "
     ]
    }
   ],
   "source": [
    "m = MeCab.Tagger()\n",
    "m.parse(\"안녕하세요. 테스트 입니다요.\")"
   ]
  },
  {
   "cell_type": "code",
   "execution_count": 15,
   "metadata": {},
   "outputs": [
    {
     "ename": "Exception",
     "evalue": "The MeCab dictionary does not exist at \"C:\\mecab\\mecab-ko-dic\". Is the dictionary correctly installed?\nYou can also try entering the dictionary path when initializing the Mecab class: \"Mecab('/some/dic/path')\"",
     "output_type": "error",
     "traceback": [
      "\u001b[1;31m---------------------------------------------------------------------------\u001b[0m",
      "\u001b[1;31mRuntimeError\u001b[0m                              Traceback (most recent call last)",
      "File \u001b[1;32mc:\\Users\\MSI\\.conda\\envs\\sesac2024_2\\lib\\site-packages\\konlpy\\tag\\_mecab.py:77\u001b[0m, in \u001b[0;36mMecab.__init__\u001b[1;34m(self, dicpath)\u001b[0m\n\u001b[0;32m     76\u001b[0m \u001b[38;5;28;01mtry\u001b[39;00m:\n\u001b[1;32m---> 77\u001b[0m     \u001b[38;5;28mself\u001b[39m\u001b[38;5;241m.\u001b[39mtagger \u001b[38;5;241m=\u001b[39m \u001b[43mTagger\u001b[49m\u001b[43m(\u001b[49m\u001b[38;5;124;43m'\u001b[39;49m\u001b[38;5;124;43m-d \u001b[39;49m\u001b[38;5;132;43;01m%s\u001b[39;49;00m\u001b[38;5;124;43m'\u001b[39;49m\u001b[43m \u001b[49m\u001b[38;5;241;43m%\u001b[39;49m\u001b[43m \u001b[49m\u001b[43mdicpath\u001b[49m\u001b[43m)\u001b[49m\n\u001b[0;32m     78\u001b[0m     \u001b[38;5;28mself\u001b[39m\u001b[38;5;241m.\u001b[39mtagset \u001b[38;5;241m=\u001b[39m utils\u001b[38;5;241m.\u001b[39mread_json(\u001b[38;5;124m'\u001b[39m\u001b[38;5;132;01m%s\u001b[39;00m\u001b[38;5;124m/data/tagset/mecab.json\u001b[39m\u001b[38;5;124m'\u001b[39m \u001b[38;5;241m%\u001b[39m utils\u001b[38;5;241m.\u001b[39minstallpath)\n",
      "File \u001b[1;32mc:\\Users\\MSI\\.conda\\envs\\sesac2024_2\\lib\\site-packages\\MeCab.py:355\u001b[0m, in \u001b[0;36mTagger.__init__\u001b[1;34m(self, *args)\u001b[0m\n\u001b[0;32m    354\u001b[0m \u001b[38;5;28;01mdef\u001b[39;00m \u001b[38;5;21m__init__\u001b[39m(\u001b[38;5;28mself\u001b[39m, \u001b[38;5;241m*\u001b[39margs):\n\u001b[1;32m--> 355\u001b[0m     _MeCab\u001b[38;5;241m.\u001b[39mTagger_swiginit(\u001b[38;5;28mself\u001b[39m, \u001b[43m_MeCab\u001b[49m\u001b[38;5;241;43m.\u001b[39;49m\u001b[43mnew_Tagger\u001b[49m\u001b[43m(\u001b[49m\u001b[38;5;241;43m*\u001b[39;49m\u001b[43margs\u001b[49m\u001b[43m)\u001b[49m)\n",
      "\u001b[1;31mRuntimeError\u001b[0m: ",
      "\nDuring handling of the above exception, another exception occurred:\n",
      "\u001b[1;31mException\u001b[0m                                 Traceback (most recent call last)",
      "Cell \u001b[1;32mIn[15], line 2\u001b[0m\n\u001b[0;32m      1\u001b[0m \u001b[38;5;28;01mfrom\u001b[39;00m \u001b[38;5;21;01mkonlpy\u001b[39;00m\u001b[38;5;21;01m.\u001b[39;00m\u001b[38;5;21;01mtag\u001b[39;00m \u001b[38;5;28;01mimport\u001b[39;00m Mecab \n\u001b[1;32m----> 2\u001b[0m mecab \u001b[38;5;241m=\u001b[39m \u001b[43mMecab\u001b[49m\u001b[43m(\u001b[49m\u001b[43mdicpath\u001b[49m\u001b[38;5;241;43m=\u001b[39;49m\u001b[38;5;124;43mr\u001b[39;49m\u001b[38;5;124;43m\"\u001b[39;49m\u001b[38;5;124;43mC:\u001b[39;49m\u001b[38;5;124;43m\\\u001b[39;49m\u001b[38;5;124;43mmecab\u001b[39;49m\u001b[38;5;124;43m\\\u001b[39;49m\u001b[38;5;124;43mmecab-ko-dic\u001b[39;49m\u001b[38;5;124;43m\"\u001b[39;49m\u001b[43m)\u001b[49m\n\u001b[0;32m      3\u001b[0m text \u001b[38;5;241m=\u001b[39m \u001b[38;5;124m\"\"\"\u001b[39m\u001b[38;5;124m사실 저 USSBaltimore가 저였습니다.. 저때 당시 무료로 풀릴 당시라 유입이 많이 있었는데 꽤 그립네요... 지금은 한국인은 아예 없을뿐더러 다들 라이더스 리퍼블릭으로 넘어가셧지만 스팁만의 배경과 라이더스 리퍼블릭만의 조작감 이슈로 저는 라이더스 리퍼블릭보단 스팁을 아직도 플레이 중입니다 덕분에 저때 당시 52렙이었지만 현재전 100레벨 이상을 넘게 찍어서 한국인중 최후의 썩은물이 되어버렸네요.. 저때 당시 제가 영어만 쓰는 컨셉질을 많이해서 다른 분들에게 다가가 접근해 한국인분들이랑 재밋게 놀고 있었답니다\u001b[39m\u001b[38;5;124m\"\"\"\u001b[39m\n\u001b[0;32m      4\u001b[0m morphs \u001b[38;5;241m=\u001b[39m mecab\u001b[38;5;241m.\u001b[39mmorphs(text)\n",
      "File \u001b[1;32mc:\\Users\\MSI\\.conda\\envs\\sesac2024_2\\lib\\site-packages\\konlpy\\tag\\_mecab.py:80\u001b[0m, in \u001b[0;36mMecab.__init__\u001b[1;34m(self, dicpath)\u001b[0m\n\u001b[0;32m     78\u001b[0m     \u001b[38;5;28mself\u001b[39m\u001b[38;5;241m.\u001b[39mtagset \u001b[38;5;241m=\u001b[39m utils\u001b[38;5;241m.\u001b[39mread_json(\u001b[38;5;124m'\u001b[39m\u001b[38;5;132;01m%s\u001b[39;00m\u001b[38;5;124m/data/tagset/mecab.json\u001b[39m\u001b[38;5;124m'\u001b[39m \u001b[38;5;241m%\u001b[39m utils\u001b[38;5;241m.\u001b[39minstallpath)\n\u001b[0;32m     79\u001b[0m \u001b[38;5;28;01mexcept\u001b[39;00m \u001b[38;5;167;01mRuntimeError\u001b[39;00m:\n\u001b[1;32m---> 80\u001b[0m     \u001b[38;5;28;01mraise\u001b[39;00m \u001b[38;5;167;01mException\u001b[39;00m(\u001b[38;5;124m'\u001b[39m\u001b[38;5;124mThe MeCab dictionary does not exist at \u001b[39m\u001b[38;5;124m\"\u001b[39m\u001b[38;5;132;01m%s\u001b[39;00m\u001b[38;5;124m\"\u001b[39m\u001b[38;5;124m. Is the dictionary correctly installed?\u001b[39m\u001b[38;5;130;01m\\n\u001b[39;00m\u001b[38;5;124mYou can also try entering the dictionary path when initializing the Mecab class: \u001b[39m\u001b[38;5;124m\"\u001b[39m\u001b[38;5;124mMecab(\u001b[39m\u001b[38;5;130;01m\\'\u001b[39;00m\u001b[38;5;124m/some/dic/path\u001b[39m\u001b[38;5;130;01m\\'\u001b[39;00m\u001b[38;5;124m)\u001b[39m\u001b[38;5;124m\"\u001b[39m\u001b[38;5;124m'\u001b[39m \u001b[38;5;241m%\u001b[39m dicpath)\n\u001b[0;32m     81\u001b[0m \u001b[38;5;28;01mexcept\u001b[39;00m \u001b[38;5;167;01mNameError\u001b[39;00m:\n\u001b[0;32m     82\u001b[0m     \u001b[38;5;28;01mraise\u001b[39;00m \u001b[38;5;167;01mException\u001b[39;00m(\u001b[38;5;124m'\u001b[39m\u001b[38;5;124mInstall MeCab in order to use it: http://konlpy.org/en/latest/install/\u001b[39m\u001b[38;5;124m'\u001b[39m)\n",
      "\u001b[1;31mException\u001b[0m: The MeCab dictionary does not exist at \"C:\\mecab\\mecab-ko-dic\". Is the dictionary correctly installed?\nYou can also try entering the dictionary path when initializing the Mecab class: \"Mecab('/some/dic/path')\""
     ]
    }
   ],
   "source": [
    "from konlpy.tag import Mecab \n",
    "mecab = Mecab(dicpath=r\"C:\\mecab\\mecab-ko-dic\")\n",
    "text = \"\"\"사실 저 USSBaltimore가 저였습니다.. 저때 당시 무료로 풀릴 당시라 유입이 많이 있었는데 꽤 그립네요... 지금은 한국인은 아예 없을뿐더러 다들 라이더스 리퍼블릭으로 넘어가셧지만 스팁만의 배경과 라이더스 리퍼블릭만의 조작감 이슈로 저는 라이더스 리퍼블릭보단 스팁을 아직도 플레이 중입니다 덕분에 저때 당시 52렙이었지만 현재전 100레벨 이상을 넘게 찍어서 한국인중 최후의 썩은물이 되어버렸네요.. 저때 당시 제가 영어만 쓰는 컨셉질을 많이해서 다른 분들에게 다가가 접근해 한국인분들이랑 재밋게 놀고 있었답니다\"\"\"\n",
    "morphs = mecab.morphs(text)\n",
    "pos = mecab.pos(text)\n",
    "nouns = mecab.nouns(text)\n",
    "\n",
    "print('mecab check :', morphs)\n",
    "print('mecab check :', pos)\n",
    "print('mecab check :', nouns)"
   ]
  },
  {
   "cell_type": "code",
   "execution_count": 16,
   "metadata": {},
   "outputs": [
    {
     "ename": "NameError",
     "evalue": "name 'nouns' is not defined",
     "output_type": "error",
     "traceback": [
      "\u001b[1;31m---------------------------------------------------------------------------\u001b[0m",
      "\u001b[1;31mNameError\u001b[0m                                 Traceback (most recent call last)",
      "Cell \u001b[1;32mIn[16], line 8\u001b[0m\n\u001b[0;32m      5\u001b[0m stopwords \u001b[38;5;241m=\u001b[39m [\u001b[38;5;124m'\u001b[39m\u001b[38;5;124m저\u001b[39m\u001b[38;5;124m'\u001b[39m, \u001b[38;5;124m'\u001b[39m\u001b[38;5;124m때\u001b[39m\u001b[38;5;124m'\u001b[39m, \u001b[38;5;124m'\u001b[39m\u001b[38;5;124m당시\u001b[39m\u001b[38;5;124m'\u001b[39m, \u001b[38;5;124m'\u001b[39m\u001b[38;5;124m지금\u001b[39m\u001b[38;5;124m'\u001b[39m]\n\u001b[0;32m      7\u001b[0m \u001b[38;5;66;03m# 불용어 제거\u001b[39;00m\n\u001b[1;32m----> 8\u001b[0m filtered_nouns \u001b[38;5;241m=\u001b[39m [word \u001b[38;5;28;01mfor\u001b[39;00m word \u001b[38;5;129;01min\u001b[39;00m \u001b[43mnouns\u001b[49m \u001b[38;5;28;01mif\u001b[39;00m word \u001b[38;5;129;01mnot\u001b[39;00m \u001b[38;5;129;01min\u001b[39;00m stopwords]\n\u001b[0;32m     10\u001b[0m \u001b[38;5;66;03m# 명사 리스트를 하나의 문자열로 합치기\u001b[39;00m\n\u001b[0;32m     11\u001b[0m text \u001b[38;5;241m=\u001b[39m \u001b[38;5;124m\"\u001b[39m\u001b[38;5;124m \u001b[39m\u001b[38;5;124m\"\u001b[39m\u001b[38;5;241m.\u001b[39mjoin(filtered_nouns)\n",
      "\u001b[1;31mNameError\u001b[0m: name 'nouns' is not defined"
     ]
    }
   ],
   "source": [
    "from wordcloud import WordCloud\n",
    "import matplotlib.pyplot as plt\n",
    "\n",
    "# mecab 처리 텍스트\n",
    "stopwords = ['저', '때', '당시', '지금']\n",
    "\n",
    "# 불용어 제거\n",
    "filtered_nouns = [word for word in nouns if word not in stopwords]\n",
    "\n",
    "# 명사 리스트를 하나의 문자열로 합치기\n",
    "text = \" \".join(filtered_nouns)\n",
    "\n",
    "# 워드 클라우드 객체 생성\n",
    "wordcloud = WordCloud(\n",
    "    font_path='C:/Windows/Fonts/malgun.ttf',  # 한글 폰트 경로\n",
    "    background_color='white',  # 배경색\n",
    "    max_words=200,  # 최대 단어 수\n",
    "    width=800, height=400  # 크기\n",
    ").generate(text)\n",
    "\n",
    "# 워드 클라우드 시각화\n",
    "plt.figure(figsize=(8, 8))\n",
    "plt.imshow(wordcloud, interpolation='bilinear')\n",
    "plt.axis('off')  # 축 제거\n",
    "plt.show()"
   ]
  },
  {
   "cell_type": "markdown",
   "metadata": {},
   "source": [
    "마스크 이미지 변경"
   ]
  },
  {
   "cell_type": "code",
   "execution_count": 3,
   "metadata": {},
   "outputs": [
    {
     "ename": "FileNotFoundError",
     "evalue": "[Errno 2] No such file or directory: 'mask1.jpg'",
     "output_type": "error",
     "traceback": [
      "\u001b[1;31m---------------------------------------------------------------------------\u001b[0m",
      "\u001b[1;31mFileNotFoundError\u001b[0m                         Traceback (most recent call last)",
      "Cell \u001b[1;32mIn[3], line 6\u001b[0m\n\u001b[0;32m      4\u001b[0m \u001b[38;5;66;03m# 이미지 로드\u001b[39;00m\n\u001b[0;32m      5\u001b[0m image_path \u001b[38;5;241m=\u001b[39m \u001b[38;5;124m'\u001b[39m\u001b[38;5;124mmask1.jpg\u001b[39m\u001b[38;5;124m'\u001b[39m\n\u001b[1;32m----> 6\u001b[0m image \u001b[38;5;241m=\u001b[39m \u001b[43mImage\u001b[49m\u001b[38;5;241;43m.\u001b[39;49m\u001b[43mopen\u001b[49m\u001b[43m(\u001b[49m\u001b[43mimage_path\u001b[49m\u001b[43m)\u001b[49m\n\u001b[0;32m      8\u001b[0m \u001b[38;5;66;03m# 이미지 반전 - 필요할 경우 실행\u001b[39;00m\n\u001b[0;32m      9\u001b[0m image \u001b[38;5;241m=\u001b[39m ImageOps\u001b[38;5;241m.\u001b[39minvert(image)\n",
      "File \u001b[1;32mc:\\Users\\MSI\\.conda\\envs\\sesac2024_2\\lib\\site-packages\\PIL\\Image.py:3247\u001b[0m, in \u001b[0;36mopen\u001b[1;34m(fp, mode, formats)\u001b[0m\n\u001b[0;32m   3244\u001b[0m     filename \u001b[38;5;241m=\u001b[39m fp\n\u001b[0;32m   3246\u001b[0m \u001b[38;5;28;01mif\u001b[39;00m filename:\n\u001b[1;32m-> 3247\u001b[0m     fp \u001b[38;5;241m=\u001b[39m \u001b[43mbuiltins\u001b[49m\u001b[38;5;241;43m.\u001b[39;49m\u001b[43mopen\u001b[49m\u001b[43m(\u001b[49m\u001b[43mfilename\u001b[49m\u001b[43m,\u001b[49m\u001b[43m \u001b[49m\u001b[38;5;124;43m\"\u001b[39;49m\u001b[38;5;124;43mrb\u001b[39;49m\u001b[38;5;124;43m\"\u001b[39;49m\u001b[43m)\u001b[49m\n\u001b[0;32m   3248\u001b[0m     exclusive_fp \u001b[38;5;241m=\u001b[39m \u001b[38;5;28;01mTrue\u001b[39;00m\n\u001b[0;32m   3250\u001b[0m \u001b[38;5;28;01mtry\u001b[39;00m:\n",
      "\u001b[1;31mFileNotFoundError\u001b[0m: [Errno 2] No such file or directory: 'mask1.jpg'"
     ]
    }
   ],
   "source": [
    "from PIL import Image, ImageOps\n",
    "import numpy as np\n",
    "\n",
    "# 이미지 로드\n",
    "image_path = 'mask1.jpg'\n",
    "image = Image.open(image_path)\n",
    "\n",
    "# 이미지 반전 - 필요할 경우 실행\n",
    "image = ImageOps.invert(image)\n",
    "\n",
    "# 반전된 이미지를 배열로 변환\n",
    "mask1 = np.array(image)\n",
    "\n",
    "# 워드 클라우드 객체 생성\n",
    "wordcloud = WordCloud(\n",
    "    mask=mask1,\n",
    "    font_path='C:/Windows/Fonts/malgun.ttf',  # 한글 폰트 경로\n",
    "    background_color='white',  # 배경색\n",
    "    max_words=200,  # 최대 단어 수\n",
    "    width=800, height=400  # 크기\n",
    ").generate(text)\n",
    "\n",
    "# 워드 클라우드 시각화\n",
    "plt.figure(figsize=(10, 10))\n",
    "plt.imshow(wordcloud, interpolation='bilinear')\n",
    "plt.axis('off')  # 축 제거\n",
    "plt.show()"
   ]
  },
  {
   "cell_type": "markdown",
   "metadata": {},
   "source": [
    "컬러 스타일 변경해보기"
   ]
  },
  {
   "cell_type": "code",
   "execution_count": 50,
   "metadata": {},
   "outputs": [
    {
     "data": {
      "image/png": "[encoded data removed]",
      "text/plain": [
       "<Figure size 640x480 with 1 Axes>"
      ]
     },
     "metadata": {},
     "output_type": "display_data"
    }
   ],
   "source": [
    "from wordcloud import WordCloud, ImageColorGenerator\n",
    "from PIL import Image\n",
    "import numpy as np\n",
    "import matplotlib.pyplot as plt\n",
    "\n",
    "# 이미지로부터 색상 생성\n",
    "image = np.array(Image.open(\"mask2.png\"))\n",
    "color_generator = ImageColorGenerator(image)\n",
    "\n",
    "# 워드 클라우드 객체 생성\n",
    "wordcloud = WordCloud(\n",
    "    font_path='C:/Windows/Fonts/malgun.ttf',  # 한글 폰트 경로\n",
    "    color_func=lambda *args, **kwargs: \"darkblue\", # 모든 단어를 진한 파란색으로 바꾸기\n",
    "    background_color='white',\n",
    "    mask=image,  # 이미지 모양의 마스크 사용\n",
    "    # color_func=color_generator,  # 이미지 색상에 기반한 색상 사용\n",
    ").generate(text)\n",
    "\n",
    "# 워드 클라우드 시각화\n",
    "plt.imshow(wordcloud)\n",
    "plt.axis('off')\n",
    "plt.show()\n"
   ]
  },
  {
   "cell_type": "markdown",
   "metadata": {},
   "source": [
    "### 데이터 분석 과정 예시"
   ]
  },
  {
   "cell_type": "markdown",
   "metadata": {},
   "source": [
    "#### 1. 특수 문자, 필요 없는 문자 제거"
   ]
  },
  {
   "cell_type": "code",
   "execution_count": 4,
   "metadata": {},
   "outputs": [
    {
     "name": "stdout",
     "output_type": "stream",
     "text": [
      "정말 재미있는 게임입니다 최고 별로예요 기대했던 것만큼 재밌지 않았습니다 \n"
     ]
    }
   ],
   "source": [
    "import re ## 특수 문자 등 필요 없는 문자 제거를 위한 라이브러리\n",
    "review = \"정말 재미있는 게임입니다!! 최고👍 별로예요... 기대했던 것만큼 재밌지 않았습니다. 😢\"\n",
    "cleaned_review = re.sub(r'[^가-힣\\s]', '', review)\n",
    "print(cleaned_review)"
   ]
  },
  {
   "cell_type": "markdown",
   "metadata": {},
   "source": [
    "#### 2. 정제 데이터를 분석하기 좋은 데이터 프레임 형태로 변환할 필요"
   ]
  },
  {
   "cell_type": "code",
   "execution_count": null,
   "metadata": {},
   "outputs": [],
   "source": [
    "## 직접 해보세요"
   ]
  },
  {
   "cell_type": "markdown",
   "metadata": {},
   "source": [
    "### 데이터 프레임 예시"
   ]
  },
  {
   "cell_type": "code",
   "execution_count": 1,
   "metadata": {},
   "outputs": [
    {
     "name": "stdout",
     "output_type": "stream",
     "text": [
      "                         reviews             cleaned_reviews\n",
      "0            정말 재미있는 게임입니다!! 최고👍            정말 재미있는 게임입니다 최고\n",
      "1  별로예요... 기대했던 것만큼 재밌지 않았습니다. 😢    별로예요 기대했던 것만큼 재밌지 않았습니다 \n",
      "2           업데이트 후에 더 좋아졌어요! 짱짱👏          업데이트 후에 더 좋아졌어요 짱짱\n",
      "3     서버가 자주 다운되네요. 개선이 필요합니다. 😡     서버가 자주 다운되네요 개선이 필요합니다 \n",
      "4            친구들과 함께하면 더욱 재미있어요!          친구들과 함께하면 더욱 재미있어요\n",
      "5            그래픽이 아주 멋집니다. 추천해요!           그래픽이 아주 멋집니다 추천해요\n",
      "6    초반에는 재미있는데, 시간이 지나면 지루해집니다.   초반에는 재미있는데 시간이 지나면 지루해집니다\n",
      "7    커뮤니티가 활성화되어 있어 정보 공유하기 좋아요.  커뮤니티가 활성화되어 있어 정보 공유하기 좋아요\n"
     ]
    }
   ],
   "source": [
    "import pandas as pd\n",
    "import re\n",
    "\n",
    "# 예시 데이터 생성\n",
    "data = {\n",
    "    'reviews': [\n",
    "        '정말 재미있는 게임입니다!! 최고👍',\n",
    "        '별로예요... 기대했던 것만큼 재밌지 않았습니다. 😢',\n",
    "        '업데이트 후에 더 좋아졌어요! 짱짱👏',\n",
    "        '서버가 자주 다운되네요. 개선이 필요합니다. 😡',\n",
    "        '친구들과 함께하면 더욱 재미있어요!',\n",
    "        '그래픽이 아주 멋집니다. 추천해요!',\n",
    "        '초반에는 재미있는데, 시간이 지나면 지루해집니다.',\n",
    "        '커뮤니티가 활성화되어 있어 정보 공유하기 좋아요.'\n",
    "    ]\n",
    "}\n",
    "\n",
    "# 데이터 프레임 생성\n",
    "df = pd.DataFrame(data)\n",
    "\n",
    "# 데이터 클리닝: 한글과 공백을 제외한 모든 문자 제거\n",
    "df['cleaned_reviews'] = df['reviews'].apply(lambda x: re.sub(r'[^가-힣\\s]', '', x).lower())\n",
    "\n",
    "# 결과 확인\n",
    "print(df[['reviews', 'cleaned_reviews']])"
   ]
  },
  {
   "cell_type": "markdown",
   "metadata": {},
   "source": [
    "#### 명사만 추출하여 데이터 프레임에 추가하기"
   ]
  },
  {
   "cell_type": "code",
   "execution_count": 6,
   "metadata": {},
   "outputs": [
    {
     "data": {
      "text/html": [
       "<div>\n",
       "<style scoped>\n",
       "    .dataframe tbody tr th:only-of-type {\n",
       "        vertical-align: middle;\n",
       "    }\n",
       "\n",
       "    .dataframe tbody tr th {\n",
       "        vertical-align: top;\n",
       "    }\n",
       "\n",
       "    .dataframe thead th {\n",
       "        text-align: right;\n",
       "    }\n",
       "</style>\n",
       "<table border=\"1\" class=\"dataframe\">\n",
       "  <thead>\n",
       "    <tr style=\"text-align: right;\">\n",
       "      <th></th>\n",
       "      <th>reviews</th>\n",
       "      <th>cleaned_reviews</th>\n",
       "      <th>nouns</th>\n",
       "    </tr>\n",
       "  </thead>\n",
       "  <tbody>\n",
       "    <tr>\n",
       "      <th>0</th>\n",
       "      <td>정말 재미있는 게임입니다!! 최고👍</td>\n",
       "      <td>정말 재미있는 게임입니다 최고</td>\n",
       "      <td>[게임, 최고]</td>\n",
       "    </tr>\n",
       "    <tr>\n",
       "      <th>1</th>\n",
       "      <td>별로예요... 기대했던 것만큼 재밌지 않았습니다. 😢</td>\n",
       "      <td>별로예요 기대했던 것만큼 재밌지 않았습니다</td>\n",
       "      <td>[기대, 것]</td>\n",
       "    </tr>\n",
       "    <tr>\n",
       "      <th>2</th>\n",
       "      <td>업데이트 후에 더 좋아졌어요! 짱짱👏</td>\n",
       "      <td>업데이트 후에 더 좋아졌어요 짱짱</td>\n",
       "      <td>[업데이트, 후]</td>\n",
       "    </tr>\n",
       "    <tr>\n",
       "      <th>3</th>\n",
       "      <td>서버가 자주 다운되네요. 개선이 필요합니다. 😡</td>\n",
       "      <td>서버가 자주 다운되네요 개선이 필요합니다</td>\n",
       "      <td>[서버, 다운, 개선, 필요]</td>\n",
       "    </tr>\n",
       "    <tr>\n",
       "      <th>4</th>\n",
       "      <td>친구들과 함께하면 더욱 재미있어요!</td>\n",
       "      <td>친구들과 함께하면 더욱 재미있어요</td>\n",
       "      <td>[친구]</td>\n",
       "    </tr>\n",
       "    <tr>\n",
       "      <th>5</th>\n",
       "      <td>그래픽이 아주 멋집니다. 추천해요!</td>\n",
       "      <td>그래픽이 아주 멋집니다 추천해요</td>\n",
       "      <td>[그래픽, 멋, 추천]</td>\n",
       "    </tr>\n",
       "    <tr>\n",
       "      <th>6</th>\n",
       "      <td>초반에는 재미있는데, 시간이 지나면 지루해집니다.</td>\n",
       "      <td>초반에는 재미있는데 시간이 지나면 지루해집니다</td>\n",
       "      <td>[초반, 시간]</td>\n",
       "    </tr>\n",
       "    <tr>\n",
       "      <th>7</th>\n",
       "      <td>커뮤니티가 활성화되어 있어 정보 공유하기 좋아요.</td>\n",
       "      <td>커뮤니티가 활성화되어 있어 정보 공유하기 좋아요</td>\n",
       "      <td>[커뮤니티, 활성, 정보, 공유]</td>\n",
       "    </tr>\n",
       "  </tbody>\n",
       "</table>\n",
       "</div>"
      ],
      "text/plain": [
       "                         reviews             cleaned_reviews  \\\n",
       "0            정말 재미있는 게임입니다!! 최고👍            정말 재미있는 게임입니다 최고   \n",
       "1  별로예요... 기대했던 것만큼 재밌지 않았습니다. 😢    별로예요 기대했던 것만큼 재밌지 않았습니다    \n",
       "2           업데이트 후에 더 좋아졌어요! 짱짱👏          업데이트 후에 더 좋아졌어요 짱짱   \n",
       "3     서버가 자주 다운되네요. 개선이 필요합니다. 😡     서버가 자주 다운되네요 개선이 필요합니다    \n",
       "4            친구들과 함께하면 더욱 재미있어요!          친구들과 함께하면 더욱 재미있어요   \n",
       "5            그래픽이 아주 멋집니다. 추천해요!           그래픽이 아주 멋집니다 추천해요   \n",
       "6    초반에는 재미있는데, 시간이 지나면 지루해집니다.   초반에는 재미있는데 시간이 지나면 지루해집니다   \n",
       "7    커뮤니티가 활성화되어 있어 정보 공유하기 좋아요.  커뮤니티가 활성화되어 있어 정보 공유하기 좋아요   \n",
       "\n",
       "                nouns  \n",
       "0            [게임, 최고]  \n",
       "1             [기대, 것]  \n",
       "2           [업데이트, 후]  \n",
       "3    [서버, 다운, 개선, 필요]  \n",
       "4                [친구]  \n",
       "5        [그래픽, 멋, 추천]  \n",
       "6            [초반, 시간]  \n",
       "7  [커뮤니티, 활성, 정보, 공유]  "
      ]
     },
     "execution_count": 6,
     "metadata": {},
     "output_type": "execute_result"
    }
   ],
   "source": [
    "from konlpy.tag import Mecab \n",
    "mecab = Mecab(dicpath=r\"C:\\mecab\\mecab-ko-dic\")\n",
    "\n",
    "# 명사 추출 함수 정의 - 의도에 맞는 다른 방식으로 추출해 봅시다. pdf 품사 태그 참고\n",
    "def extract_nouns(text):\n",
    "    mecab = Mecab(dicpath=r\"C:\\mecab\\mecab-ko-dic\")\n",
    "    nouns = mecab.nouns(text)\n",
    "    return nouns\n",
    "\n",
    "df['nouns'] = df['cleaned_reviews'].apply(extract_nouns)\n",
    "df"
   ]
  },
  {
   "cell_type": "markdown",
   "metadata": {},
   "source": [
    "#### 3. 데이터 분석(EDA)\n",
    "- 빈도 분석\n",
    "- 트렌드 분석\n",
    "- 감성 분석\n",
    "- 트렌드, 빈도, 감성 분석에 사용할 데이터 형태로 전처리 했다면 알맞은 시각화 방법을 통해 분석해봅시다.\n",
    "<br><br>\n",
    "- 예시 : 시간대별 리뷰 추이가 궁금하다면 -> 시간대별로 데이터 프레임 만든 후, 상위 단어 추출하여 분석\n",
    "- 예시 : 전체 리뷰의 상태가 궁금하다면 -> 전체 리뷰를 합쳐서 단어 분석"
   ]
  },
  {
   "cell_type": "code",
   "execution_count": 14,
   "metadata": {},
   "outputs": [
    {
     "name": "stdout",
     "output_type": "stream",
     "text": [
      "[('게임', 1), ('최고', 1), ('기대', 1), ('것', 1), ('업데이트', 1), ('후', 1), ('서버', 1), ('다운', 1), ('개선', 1), ('필요', 1)]\n"
     ]
    }
   ],
   "source": [
    "### 참고 - 빈도 분석\n",
    "from collections import Counter\n",
    "\n",
    "# 명사 빈도 계산\n",
    "words_count = Counter(df['nouns'].sum())\n",
    "\n",
    "# 가장 흔한 10개 단어 출력\n",
    "print(words_count.most_common(10))"
   ]
  }
 ],
 "metadata": {
  "kernelspec": {
   "display_name": "sesac2024",
   "language": "python",
   "name": "python3"
  },
  "language_info": {
   "codemirror_mode": {
    "name": "ipython",
    "version": 3
   },
   "file_extension": ".py",
   "mimetype": "text/x-python",
   "name": "python",
   "nbconvert_exporter": "python",
   "pygments_lexer": "ipython3",
   "version": "3.10.14"
  }
 },
 "nbformat": 4,
 "nbformat_minor": 2
}
