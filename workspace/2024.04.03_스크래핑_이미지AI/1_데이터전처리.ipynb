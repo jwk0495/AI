{
 "cells": [
  {
   "cell_type": "markdown",
   "metadata": {},
   "source": [
    "### 1. shutil 사용법"
   ]
  },
  {
   "cell_type": "code",
   "execution_count": 2,
   "metadata": {},
   "outputs": [
    {
     "data": {
      "text/plain": [
       "'source_moved.txt'"
      ]
     },
     "execution_count": 2,
     "metadata": {},
     "output_type": "execute_result"
    }
   ],
   "source": [
    "import shutil\n",
    "\n",
    "# 파일 복사\n",
    "shutil.copy('source.txt', 'source_copy.txt')\n",
    "\n",
    "# 폴더 복사\n",
    "shutil.copytree('new_dir', 'new_dir_copy')\n",
    "\n",
    "# 파일 이동\n",
    "shutil.move('source_copy.txt', 'source_moved.txt')\n",
    "\n",
    "# 폴더 삭제\n",
    "# shutil.rmtree('directory_to_delete')"
   ]
  },
  {
   "cell_type": "markdown",
   "metadata": {},
   "source": [
    "### 2. glob 사용법"
   ]
  },
  {
   "cell_type": "code",
   "execution_count": 3,
   "metadata": {},
   "outputs": [
    {
     "name": "stdout",
     "output_type": "stream",
     "text": [
      "['.\\\\1_데이터전처리.ipynb', '.\\\\2_데이터증강.ipynb']\n",
      "['C:\\\\Users\\\\test_account\\\\workspace\\\\images\\\\밝기 조정.png', 'C:\\\\Users\\\\test_account\\\\workspace\\\\images\\\\블러링 효과.png', 'C:\\\\Users\\\\test_account\\\\workspace\\\\images\\\\히스토그램 평준화.png']\n"
     ]
    }
   ],
   "source": [
    "import glob\n",
    "\n",
    "# 현재 디렉토리의 모든 .ipynb 파일 목록 가져오기\n",
    "ipynb_files = glob.glob('./*.ipynb')\n",
    "print(ipynb_files)\n",
    "\n",
    "# 특정 경로의 모든 png 파일 목록 가져오기\n",
    "png_files = glob.glob(r'C:\\Users\\test_account\\workspace\\images\\*.png')\n",
    "print(png_files)"
   ]
  },
  {
   "cell_type": "markdown",
   "metadata": {},
   "source": [
    "### 3. os 사용법"
   ]
  },
  {
   "cell_type": "code",
   "execution_count": 4,
   "metadata": {},
   "outputs": [
    {
     "name": "stdout",
     "output_type": "stream",
     "text": [
      "c:\\Users\\test_account\\workspace\\7일차_이미지데이터전처리\n",
      "['new_directory']\n",
      "/new_dir_copy/file.txt\n",
      "False\n"
     ]
    }
   ],
   "source": [
    "import os\n",
    "\n",
    "# 현재 작업 디렉토리 확인\n",
    "print(os.getcwd())\n",
    "\n",
    "# 현재 작업 디렉토리 변경\n",
    "os.chdir('./new_dir')\n",
    "\n",
    "# 새로운 디렉토리 생성\n",
    "os.mkdir('new_directory')\n",
    "\n",
    "# 디렉토리 내 파일 및 다른 디렉토리 목록 확인\n",
    "items = os.listdir('.')\n",
    "print(items)\n",
    "\n",
    "# 경로 조합\n",
    "full_path = os.path.join('/new_dir_copy/', 'file.txt')\n",
    "print(full_path)\n",
    "\n",
    "# 파일이나 디렉토리 존재 여부 확인\n",
    "exists = os.path.exists('./file.txt')\n",
    "print(exists)\n"
   ]
  }
 ],
 "metadata": {
  "kernelspec": {
   "display_name": "sesac2024",
   "language": "python",
   "name": "python3"
  },
  "language_info": {
   "codemirror_mode": {
    "name": "ipython",
    "version": 3
   },
   "file_extension": ".py",
   "mimetype": "text/x-python",
   "name": "python",
   "nbconvert_exporter": "python",
   "pygments_lexer": "ipython3",
   "version": "3.10.13"
  }
 },
 "nbformat": 4,
 "nbformat_minor": 2
}
