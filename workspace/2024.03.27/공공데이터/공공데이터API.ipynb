{
 "cells": [
  {
   "cell_type": "code",
   "execution_count": 1,
   "metadata": {},
   "outputs": [],
   "source": [
    "!pip install -qq requests"
   ]
  },
  {
   "cell_type": "code",
   "execution_count": 3,
   "metadata": {},
   "outputs": [],
   "source": [
    "import requests\n",
    "import json"
   ]
  },
  {
   "cell_type": "code",
   "execution_count": 7,
   "metadata": {},
   "outputs": [],
   "source": [
    "bases_url = \"http://apis.data.go.kr/1360000/TourStnInfoService1\"\n",
    "service_key =\"re3X6eB%2BBRuzD5LehPDt9pV1%2BjZjRtonnIQ7B5q3iDsYUbH9Fse4HY7%2Bay2LrgfNAjYajN0xduxH%2B516%2Brw4yA%3D%3D\"\n",
    "ENDPOINT1 =\"/getTourStnVilageFcst1\""
   ]
  },
  {
   "cell_type": "code",
   "execution_count": 8,
   "metadata": {},
   "outputs": [],
   "source": [
    "params = {\n",
    "    \"ServiceKey\":service_key,\n",
    "    \"pageNo\":1,\n",
    "    \"numOfRows\":\"10\",\n",
    "    \"dataType\" : \"JSON\",\n",
    "    \"CURRENT_DATE\" : \"2018123110\",\n",
    "    \"HOUR\" : \"24\",\n",
    "    \"COURSE_ID\" : \"52\"\n",
    "}\n",
    "# API 요청\n",
    "response = requests.get(\n",
    "    f\"{bases_url}{ENDPOINT1}\",\n",
    "    params=params,\n",
    "    verify=False\n",
    ")"
   ]
  },
  {
   "cell_type": "code",
   "execution_count": 9,
   "metadata": {},
   "outputs": [
    {
     "name": "stdout",
     "output_type": "stream",
     "text": [
      "('tm', '2019-01-02 09:00')\n",
      "('thema', '문화/예술')\n",
      "('courseId', '52')\n",
      "('courseAreaId', '1100000000')\n",
      "('courseAreaName', '서울특별시')\n",
      "('courseName', '자유여행코스 - 홍대')\n",
      "('spotAreaId', 5202)\n",
      "('spotAreaName', '서울')\n",
      "('spotName', '(서울)KT&G 상상마당')\n",
      "('th3', -6)\n",
      "('wd', 302)\n",
      "('ws', 0)\n",
      "('sky', 1)\n",
      "('rhm', 55)\n",
      "('pop', 0)\n"
     ]
    }
   ],
   "source": [
    "# 응답 처리\n",
    "if response.status_code == 200:\n",
    "    # JSON 데이터 파싱\n",
    "    data = response.json()\n",
    "    for content in data['response']['body']['items']['item'][0].items():\n",
    "        print(content)\n",
    "else:\n",
    "    print(f\"API 요청 실패: {response.status_code}\")"
   ]
  },
  {
   "cell_type": "code",
   "execution_count": 1,
   "metadata": {},
   "outputs": [],
   "source": [
    "import pandas as pd\n",
    "import matplotlib.pyplot as plt\n",
    "import koreanize_matplotlib"
   ]
  },
  {
   "cell_type": "code",
   "execution_count": null,
   "metadata": {},
   "outputs": [],
   "source": []
  }
 ],
 "metadata": {
  "kernelspec": {
   "display_name": "sesac2024",
   "language": "python",
   "name": "python3"
  },
  "language_info": {
   "codemirror_mode": {
    "name": "ipython",
    "version": 3
   },
   "file_extension": ".py",
   "mimetype": "text/x-python",
   "name": "python",
   "nbconvert_exporter": "python",
   "pygments_lexer": "ipython3",
   "version": "3.10.14"
  }
 },
 "nbformat": 4,
 "nbformat_minor": 2
}
